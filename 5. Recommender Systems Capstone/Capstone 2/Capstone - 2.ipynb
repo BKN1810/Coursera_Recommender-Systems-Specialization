{
 "cells": [
  {
   "cell_type": "code",
   "execution_count": 1,
   "metadata": {},
   "outputs": [],
   "source": [
    "import pandas as pd\n",
    "import numpy as np"
   ]
  },
  {
   "cell_type": "markdown",
   "metadata": {},
   "source": [
    "# Read data"
   ]
  },
  {
   "cell_type": "code",
   "execution_count": 2,
   "metadata": {},
   "outputs": [],
   "source": [
    "items = pd.read_excel('office-products.xlsx', sheet_name='Items', index_col=0)\n",
    "ratings = pd.read_excel('office-products.xlsx', sheet_name='Ratings', index_col=0)\n",
    "cbf = pd.read_excel('office-products.xlsx', sheet_name='CBF', index_col=0)\n",
    "item_item = pd.read_excel('office-products.xlsx', sheet_name='Item-Item', index_col=0)\n",
    "mf = pd.read_excel('office-products.xlsx', sheet_name='MF', index_col=0)\n",
    "pers_bias = pd.read_excel('office-products.xlsx', sheet_name='PersBias', index_col=0)\n",
    "user_user = pd.read_excel('office-products.xlsx', sheet_name='User-User', index_col=0)"
   ]
  },
  {
   "cell_type": "code",
   "execution_count": 3,
   "metadata": {},
   "outputs": [
    {
     "name": "stdout",
     "output_type": "stream",
     "text": [
      "items shape : (200, 7)\n",
      "ratings shape : (200, 100)\n",
      "cbf shape : (200, 100)\n",
      "item_item shape : (200, 100)\n",
      "mf shape : (200, 100)\n",
      "pers_bias shape : (200, 100)\n",
      "user_user shape : (200, 100)\n"
     ]
    }
   ],
   "source": [
    "print('items shape : ' + str(items.shape))\n",
    "print('ratings shape : ' + str(ratings.shape))\n",
    "print('cbf shape : ' + str(cbf.shape))\n",
    "print('item_item shape : ' + str(item_item.shape))\n",
    "print('mf shape : ' + str(mf.shape))\n",
    "print('pers_bias shape : ' + str(pers_bias.shape))\n",
    "print('user_user shape : ' + str(user_user.shape))"
   ]
  },
  {
   "cell_type": "markdown",
   "metadata": {},
   "source": [
    "# Summary\n",
    "\n",
    "Ratings df will become observed values / ground truth values\n",
    "Other values from different methods will become out prediction values\n",
    "\n",
    "Evaluation metrics : RMSE, NDCG and Precision@N\n",
    "\n"
   ]
  },
  {
   "cell_type": "code",
   "execution_count": 4,
   "metadata": {},
   "outputs": [],
   "source": [
    "class Model:\n",
    "    \n",
    "    def __init__(self, items, ratings, cbf, item_item, mf, pers_bias, user_user):\n",
    "        \n",
    "        self.items = items\n",
    "        self.ratings = ratings\n",
    "        self.cbf = cbf\n",
    "        self.item_item = item_item\n",
    "        self.mf = mf\n",
    "        self.pers_bias = pers_bias\n",
    "        self.user_user = user_user\n",
    "        \n",
    "        # avg rating for user\n",
    "        self.avgUserRating = ratings.apply(lambda x: np.average(x[~np.isnan(x)]))\n",
    "        \n",
    "        # combine lists for clear code\n",
    "        self.RCList = [self.cbf, self.item_item, self.mf, self.pers_bias,self.user_user]\n",
    "        self.RCListNames = ['cbf', 'item_item', 'mf', 'pers_bias','user_user']\n",
    "        \n",
    "        # Item popularity values\n",
    "        topNItem = 25\n",
    "        itemBoughtPercentage = self.ratings.apply(lambda x: np.sum(~np.isnan(x)), axis=0) / ratings.shape[1]\n",
    "        tmp_sorted = np.argsort(itemBoughtPercentage)[::-1]\n",
    "        self.popularItems = itemBoughtPercentage.iloc[tmp_sorted][:topNItem].index.values.astype(np.int)\n",
    "    \n",
    "    \n",
    "    # Returns all ratings for specific user\n",
    "    def getRatings(self, user_user_id):\n",
    "        filteredRatings = self.ratings[str(user_user_id)]\n",
    "        return filteredRatings[~np.isnan(filteredRatings)]\n",
    "    \n",
    "    # Returns top n ratings for each recommender\n",
    "    def getTopNRecommendation(self, user_user_id, topNRecomm):\n",
    "        topNRecommendation = dict()\n",
    "        \n",
    "        for i, j in zip(self.RCList,self.RCListNames):\n",
    "            itemIdList = i[str(user_user_id)].argsort().sort_values()[:topNRecomm].index.values\n",
    "            topNRecommendation[j] = itemIdList\n",
    "        return topNRecommendation\n",
    "    \n",
    "    # Calculates RMSE error between ratings and RCList predictions, Returns DataFrame\n",
    "    def rmse(self, user_user_id):\n",
    "        userRatings = self.getRatings(str(user_user_id))\n",
    "        rmse = []\n",
    "        \n",
    "        for i in self.RCList:\n",
    "            pred = i.reindex(index = userRatings.index)[str(user_user_id)]\n",
    "            rmse.append(np.sqrt(np.average(np.power((pred - userRatings), 2))))\n",
    "            \n",
    "        rmseDF = pd.DataFrame({'rmse' : rmse}, index = self.RCListNames)\n",
    "        return rmseDF\n",
    "    \n",
    "    \n",
    "    # Normalized Discounted Cumulative Gain for RCList\n",
    "    def NDCG(self, user_user_id, topN = 5, indvRecommendation=None):\n",
    "        \n",
    "        userRatings = self.getRatings(user_user_id)\n",
    "        \n",
    "        if indvRecommendation is None:\n",
    "            topNRecommendation = self.getTopNRecommendation(user_user_id, topN)\n",
    "            resultsIndex = self.RCListNames\n",
    "        else:\n",
    "            topNRecommendation = indvRecommendation\n",
    "            resultsIndex = list(indvRecommendation.keys())\n",
    "\n",
    "        # Converts recommendations into scores\n",
    "        allScores = []\n",
    "        for name, itemList in topNRecommendation.items():\n",
    "            scores = np.empty_like(itemList)\n",
    "            scores[:] = -15                 \n",
    "            ratedUsers = np.isin(itemList, userRatings.index.values)\n",
    "            scores[~ratedUsers] = 0\n",
    "            \n",
    "            for idx, score in enumerate(scores):\n",
    "                if(score != 0):\n",
    "                    if(userRatings[itemList[idx]] < self.avgUserRating[user_user_id] - 1):\n",
    "                        scores[idx] = -1\n",
    "                    elif((userRatings[itemList[idx]] >= self.avgUserRating[user_user_id] - 1) & \n",
    "                         (userRatings[itemList[idx]] < self.avgUserRating[user_user_id] + 0.5)):\n",
    "                        scores[idx] = 1\n",
    "                    else:\n",
    "                        scores[idx] = 2\n",
    "            \n",
    "            allScores.append(scores)                             \n",
    "\n",
    "        # Calculates DCG, ideal DCG and NDCG with scores\n",
    "        allNDCG = {}\n",
    "        \n",
    "        for idx, scores in enumerate(allScores):   \n",
    "            DCG = 0    \n",
    "            \n",
    "            for scoreIdx, score in enumerate(scores):                                  \n",
    "                DCG = DCG + score/np.log2(scoreIdx + 2) \n",
    "                \n",
    "            idealItems = np.sort(scores)[::-1]                        \n",
    "            idealDCG = 0\n",
    "            \n",
    "            for idealItemsIdx, idealScore in enumerate(idealItems):                                                           \n",
    "                idealDCG = idealDCG + idealScore/np.log2(idealItemsIdx + 2) \n",
    "            \n",
    "            if (idealDCG == 0) or (np.abs(idealDCG) < np.abs(DCG)):\n",
    "                NDCG = 0 \n",
    "            else:                                                    \n",
    "                NDCG = DCG / idealDCG\n",
    "                                                         \n",
    "            allNDCG[resultsIndex[idx]] = NDCG\n",
    "            \n",
    "            result = pd.DataFrame(allNDCG, index=range(1)).transpose()\n",
    "            result.columns = ['NDCG']\n",
    "            \n",
    "        return result\n",
    "\n",
    "    \n",
    "    # Calculates column stats(std and mean for 'Price' and 'Availability')\n",
    "    def calcStats(self, user_user_id, column, topN=5, indvRecommendation = None):\n",
    "        \n",
    "        if(indvRecommendation is None):\n",
    "            topNRecommendation = self.getTopNRecommendation(user_user_id, topN)\n",
    "        else:\n",
    "            topNRecommendation = indvRecommendation\n",
    "\n",
    "        \n",
    "        stats = pd.DataFrame()\n",
    "        \n",
    "        for k, _ in topNRecommendation.items():\n",
    "            filteredData = self.items.loc[topNRecommendation[k]][[column]].agg(['mean','std']).transpose()\n",
    "            filteredData.index = [k]\n",
    "            stats = stats.append(filteredData)\n",
    "        \n",
    "        return stats\n",
    "    \n",
    "    \n",
    "    # Returns the ratio of the top n items are among the most popular items.\n",
    "    def popularity(self, user_user_id, topN=5, indvRecommendation = None):\n",
    "        \n",
    "        if(indvRecommendation is None):\n",
    "            topNRecommendation = self.getTopNRecommendation(user_user_id, topN)\n",
    "            resultsIndex = self.RCListNames\n",
    "        else:\n",
    "            topNRecommendation = indvRecommendation\n",
    "            resultsIndex = list(indvRecommendation.keys())\n",
    "\n",
    "        results = []\n",
    "        \n",
    "        for recommender, recommendations in topNRecommendation.items():\n",
    "            popularity = np.sum(np.isin(recommendations,self.popularItems))\n",
    "            results.append(popularity)\n",
    "        \n",
    "        return pd.DataFrame({'popularity' : results},index = resultsIndex)\n",
    "    \n",
    "    \n",
    "    # Calculates precision@N\n",
    "    def precision_at_n(self, user_user_id, topN=10, indvRecommendation = None):\n",
    "        \n",
    "        if(indvRecommendation is None):\n",
    "            topNRecommendation = self.getTopNRecommendation(user_user_id, topN)\n",
    "            resultsIndex = self.RCListNames\n",
    "        else:\n",
    "            topNRecommendation = indvRecommendation\n",
    "            resultsIndex = list(indvRecommendation.keys())\n",
    "        \n",
    "        observed_ratings = self.getRatings(user_user_id).index.values\n",
    "        precisions = []\n",
    "        \n",
    "        for recommender, recommendations in topNRecommendation.items():\n",
    "            precisions.append(np.sum(np.isin(recommendations, observed_ratings)) / topN)\n",
    "        \n",
    "        return pd.DataFrame({'precision_at_' + str(topN): precisions}, index = resultsIndex)"
   ]
  },
  {
   "cell_type": "markdown",
   "metadata": {},
   "source": [
    "# Analysis for user 252"
   ]
  },
  {
   "cell_type": "code",
   "execution_count": 5,
   "metadata": {},
   "outputs": [],
   "source": [
    "# init model\n",
    "userId = '252'\n",
    "model = Model(items, ratings, cbf, item_item, mf, pers_bias, user_user)"
   ]
  },
  {
   "cell_type": "markdown",
   "metadata": {},
   "source": [
    "### Best method is User-User Collaborative Filtering according to RMSE values "
   ]
  },
  {
   "cell_type": "code",
   "execution_count": 6,
   "metadata": {},
   "outputs": [
    {
     "data": {
      "text/html": [
       "<div>\n",
       "<style scoped>\n",
       "    .dataframe tbody tr th:only-of-type {\n",
       "        vertical-align: middle;\n",
       "    }\n",
       "\n",
       "    .dataframe tbody tr th {\n",
       "        vertical-align: top;\n",
       "    }\n",
       "\n",
       "    .dataframe thead th {\n",
       "        text-align: right;\n",
       "    }\n",
       "</style>\n",
       "<table border=\"1\" class=\"dataframe\">\n",
       "  <thead>\n",
       "    <tr style=\"text-align: right;\">\n",
       "      <th></th>\n",
       "      <th>rmse</th>\n",
       "    </tr>\n",
       "  </thead>\n",
       "  <tbody>\n",
       "    <tr>\n",
       "      <th>cbf</th>\n",
       "      <td>0.756997</td>\n",
       "    </tr>\n",
       "    <tr>\n",
       "      <th>item_item</th>\n",
       "      <td>0.604561</td>\n",
       "    </tr>\n",
       "    <tr>\n",
       "      <th>mf</th>\n",
       "      <td>0.913888</td>\n",
       "    </tr>\n",
       "    <tr>\n",
       "      <th>pers_bias</th>\n",
       "      <td>0.925349</td>\n",
       "    </tr>\n",
       "    <tr>\n",
       "      <th>user_user</th>\n",
       "      <td>0.602597</td>\n",
       "    </tr>\n",
       "  </tbody>\n",
       "</table>\n",
       "</div>"
      ],
      "text/plain": [
       "               rmse\n",
       "cbf        0.756997\n",
       "item_item  0.604561\n",
       "mf         0.913888\n",
       "pers_bias  0.925349\n",
       "user_user  0.602597"
      ]
     },
     "execution_count": 6,
     "metadata": {},
     "output_type": "execute_result"
    }
   ],
   "source": [
    "model.rmse(userId)"
   ]
  },
  {
   "cell_type": "markdown",
   "metadata": {},
   "source": [
    "### NDCG values "
   ]
  },
  {
   "cell_type": "code",
   "execution_count": 7,
   "metadata": {},
   "outputs": [
    {
     "data": {
      "text/html": [
       "<div>\n",
       "<style scoped>\n",
       "    .dataframe tbody tr th:only-of-type {\n",
       "        vertical-align: middle;\n",
       "    }\n",
       "\n",
       "    .dataframe tbody tr th {\n",
       "        vertical-align: top;\n",
       "    }\n",
       "\n",
       "    .dataframe thead th {\n",
       "        text-align: right;\n",
       "    }\n",
       "</style>\n",
       "<table border=\"1\" class=\"dataframe\">\n",
       "  <thead>\n",
       "    <tr style=\"text-align: right;\">\n",
       "      <th></th>\n",
       "      <th>NDCG</th>\n",
       "    </tr>\n",
       "  </thead>\n",
       "  <tbody>\n",
       "    <tr>\n",
       "      <th>cbf</th>\n",
       "      <td>0.00000</td>\n",
       "    </tr>\n",
       "    <tr>\n",
       "      <th>item_item</th>\n",
       "      <td>1.00000</td>\n",
       "    </tr>\n",
       "    <tr>\n",
       "      <th>mf</th>\n",
       "      <td>0.50000</td>\n",
       "    </tr>\n",
       "    <tr>\n",
       "      <th>pers_bias</th>\n",
       "      <td>0.50000</td>\n",
       "    </tr>\n",
       "    <tr>\n",
       "      <th>user_user</th>\n",
       "      <td>0.63093</td>\n",
       "    </tr>\n",
       "  </tbody>\n",
       "</table>\n",
       "</div>"
      ],
      "text/plain": [
       "              NDCG\n",
       "cbf        0.00000\n",
       "item_item  1.00000\n",
       "mf         0.50000\n",
       "pers_bias  0.50000\n",
       "user_user  0.63093"
      ]
     },
     "execution_count": 7,
     "metadata": {},
     "output_type": "execute_result"
    }
   ],
   "source": [
    "model.NDCG(userId)"
   ]
  },
  {
   "cell_type": "markdown",
   "metadata": {},
   "source": [
    "### Stats for Price"
   ]
  },
  {
   "cell_type": "code",
   "execution_count": 8,
   "metadata": {},
   "outputs": [
    {
     "data": {
      "text/html": [
       "<div>\n",
       "<style scoped>\n",
       "    .dataframe tbody tr th:only-of-type {\n",
       "        vertical-align: middle;\n",
       "    }\n",
       "\n",
       "    .dataframe tbody tr th {\n",
       "        vertical-align: top;\n",
       "    }\n",
       "\n",
       "    .dataframe thead th {\n",
       "        text-align: right;\n",
       "    }\n",
       "</style>\n",
       "<table border=\"1\" class=\"dataframe\">\n",
       "  <thead>\n",
       "    <tr style=\"text-align: right;\">\n",
       "      <th></th>\n",
       "      <th>mean</th>\n",
       "      <th>std</th>\n",
       "    </tr>\n",
       "  </thead>\n",
       "  <tbody>\n",
       "    <tr>\n",
       "      <th>cbf</th>\n",
       "      <td>24.656</td>\n",
       "      <td>38.458336</td>\n",
       "    </tr>\n",
       "    <tr>\n",
       "      <th>item_item</th>\n",
       "      <td>10.186</td>\n",
       "      <td>4.635135</td>\n",
       "    </tr>\n",
       "    <tr>\n",
       "      <th>mf</th>\n",
       "      <td>12.782</td>\n",
       "      <td>4.439287</td>\n",
       "    </tr>\n",
       "    <tr>\n",
       "      <th>pers_bias</th>\n",
       "      <td>9.890</td>\n",
       "      <td>5.121875</td>\n",
       "    </tr>\n",
       "    <tr>\n",
       "      <th>user_user</th>\n",
       "      <td>54.122</td>\n",
       "      <td>87.438822</td>\n",
       "    </tr>\n",
       "  </tbody>\n",
       "</table>\n",
       "</div>"
      ],
      "text/plain": [
       "             mean        std\n",
       "cbf        24.656  38.458336\n",
       "item_item  10.186   4.635135\n",
       "mf         12.782   4.439287\n",
       "pers_bias   9.890   5.121875\n",
       "user_user  54.122  87.438822"
      ]
     },
     "execution_count": 8,
     "metadata": {},
     "output_type": "execute_result"
    }
   ],
   "source": [
    "model.calcStats(userId, 'Price')"
   ]
  },
  {
   "cell_type": "markdown",
   "metadata": {},
   "source": [
    "### Stats for Availability"
   ]
  },
  {
   "cell_type": "code",
   "execution_count": 9,
   "metadata": {},
   "outputs": [
    {
     "data": {
      "text/html": [
       "<div>\n",
       "<style scoped>\n",
       "    .dataframe tbody tr th:only-of-type {\n",
       "        vertical-align: middle;\n",
       "    }\n",
       "\n",
       "    .dataframe tbody tr th {\n",
       "        vertical-align: top;\n",
       "    }\n",
       "\n",
       "    .dataframe thead th {\n",
       "        text-align: right;\n",
       "    }\n",
       "</style>\n",
       "<table border=\"1\" class=\"dataframe\">\n",
       "  <thead>\n",
       "    <tr style=\"text-align: right;\">\n",
       "      <th></th>\n",
       "      <th>mean</th>\n",
       "      <th>std</th>\n",
       "    </tr>\n",
       "  </thead>\n",
       "  <tbody>\n",
       "    <tr>\n",
       "      <th>cbf</th>\n",
       "      <td>0.513279</td>\n",
       "      <td>0.241932</td>\n",
       "    </tr>\n",
       "    <tr>\n",
       "      <th>item_item</th>\n",
       "      <td>0.648397</td>\n",
       "      <td>0.248696</td>\n",
       "    </tr>\n",
       "    <tr>\n",
       "      <th>mf</th>\n",
       "      <td>0.559237</td>\n",
       "      <td>0.238622</td>\n",
       "    </tr>\n",
       "    <tr>\n",
       "      <th>pers_bias</th>\n",
       "      <td>0.588596</td>\n",
       "      <td>0.172630</td>\n",
       "    </tr>\n",
       "    <tr>\n",
       "      <th>user_user</th>\n",
       "      <td>0.553433</td>\n",
       "      <td>0.128046</td>\n",
       "    </tr>\n",
       "  </tbody>\n",
       "</table>\n",
       "</div>"
      ],
      "text/plain": [
       "               mean       std\n",
       "cbf        0.513279  0.241932\n",
       "item_item  0.648397  0.248696\n",
       "mf         0.559237  0.238622\n",
       "pers_bias  0.588596  0.172630\n",
       "user_user  0.553433  0.128046"
      ]
     },
     "execution_count": 9,
     "metadata": {},
     "output_type": "execute_result"
    }
   ],
   "source": [
    "model.calcStats(userId, 'Availability')"
   ]
  },
  {
   "cell_type": "markdown",
   "metadata": {},
   "source": [
    "### Popularity values"
   ]
  },
  {
   "cell_type": "code",
   "execution_count": 10,
   "metadata": {},
   "outputs": [
    {
     "data": {
      "text/html": [
       "<div>\n",
       "<style scoped>\n",
       "    .dataframe tbody tr th:only-of-type {\n",
       "        vertical-align: middle;\n",
       "    }\n",
       "\n",
       "    .dataframe tbody tr th {\n",
       "        vertical-align: top;\n",
       "    }\n",
       "\n",
       "    .dataframe thead th {\n",
       "        text-align: right;\n",
       "    }\n",
       "</style>\n",
       "<table border=\"1\" class=\"dataframe\">\n",
       "  <thead>\n",
       "    <tr style=\"text-align: right;\">\n",
       "      <th></th>\n",
       "      <th>popularity</th>\n",
       "    </tr>\n",
       "  </thead>\n",
       "  <tbody>\n",
       "    <tr>\n",
       "      <th>cbf</th>\n",
       "      <td>0</td>\n",
       "    </tr>\n",
       "    <tr>\n",
       "      <th>item_item</th>\n",
       "      <td>0</td>\n",
       "    </tr>\n",
       "    <tr>\n",
       "      <th>mf</th>\n",
       "      <td>0</td>\n",
       "    </tr>\n",
       "    <tr>\n",
       "      <th>pers_bias</th>\n",
       "      <td>0</td>\n",
       "    </tr>\n",
       "    <tr>\n",
       "      <th>user_user</th>\n",
       "      <td>0</td>\n",
       "    </tr>\n",
       "  </tbody>\n",
       "</table>\n",
       "</div>"
      ],
      "text/plain": [
       "           popularity\n",
       "cbf                 0\n",
       "item_item           0\n",
       "mf                  0\n",
       "pers_bias           0\n",
       "user_user           0"
      ]
     },
     "execution_count": 10,
     "metadata": {},
     "output_type": "execute_result"
    }
   ],
   "source": [
    "model.popularity(userId)"
   ]
  },
  {
   "cell_type": "markdown",
   "metadata": {},
   "source": [
    "### Best method is Item-Item Collaborative Filtering according to Precision@N values"
   ]
  },
  {
   "cell_type": "code",
   "execution_count": 11,
   "metadata": {
    "scrolled": true
   },
   "outputs": [
    {
     "data": {
      "text/html": [
       "<div>\n",
       "<style scoped>\n",
       "    .dataframe tbody tr th:only-of-type {\n",
       "        vertical-align: middle;\n",
       "    }\n",
       "\n",
       "    .dataframe tbody tr th {\n",
       "        vertical-align: top;\n",
       "    }\n",
       "\n",
       "    .dataframe thead th {\n",
       "        text-align: right;\n",
       "    }\n",
       "</style>\n",
       "<table border=\"1\" class=\"dataframe\">\n",
       "  <thead>\n",
       "    <tr style=\"text-align: right;\">\n",
       "      <th></th>\n",
       "      <th>precision_at_10</th>\n",
       "    </tr>\n",
       "  </thead>\n",
       "  <tbody>\n",
       "    <tr>\n",
       "      <th>cbf</th>\n",
       "      <td>0.1</td>\n",
       "    </tr>\n",
       "    <tr>\n",
       "      <th>item_item</th>\n",
       "      <td>0.3</td>\n",
       "    </tr>\n",
       "    <tr>\n",
       "      <th>mf</th>\n",
       "      <td>0.2</td>\n",
       "    </tr>\n",
       "    <tr>\n",
       "      <th>pers_bias</th>\n",
       "      <td>0.1</td>\n",
       "    </tr>\n",
       "    <tr>\n",
       "      <th>user_user</th>\n",
       "      <td>0.1</td>\n",
       "    </tr>\n",
       "  </tbody>\n",
       "</table>\n",
       "</div>"
      ],
      "text/plain": [
       "           precision_at_10\n",
       "cbf                    0.1\n",
       "item_item              0.3\n",
       "mf                     0.2\n",
       "pers_bias              0.1\n",
       "user_user              0.1"
      ]
     },
     "execution_count": 11,
     "metadata": {},
     "output_type": "execute_result"
    }
   ],
   "source": [
    "model.precision_at_n(userId)"
   ]
  },
  {
   "cell_type": "markdown",
   "metadata": {},
   "source": [
    "### Evaluation Metrics for all Users"
   ]
  },
  {
   "cell_type": "code",
   "execution_count": 12,
   "metadata": {},
   "outputs": [],
   "source": [
    "countRMSE = np.array([0] * 5)\n",
    "countNDCG = np.array([0] * 5)\n",
    "countPriceStats = np.ndarray([5,2])\n",
    "countAvailabilityStats = np.ndarray([5,2])\n",
    "countPopularity = np.array([0] * 5)\n",
    "countPrecisionAt10 = np.array([0] * 5)\n",
    "\n",
    "for idx in ratings.columns:\n",
    "    countRMSE = countRMSE + model.rmse(idx).fillna(0)['rmse']\n",
    "    \n",
    "    countNDCG = countNDCG + model.NDCG(idx)['NDCG']\n",
    "    \n",
    "    countPriceStats = countPriceStats + model.calcStats(idx, 'Price')[['mean','std']]\n",
    "    \n",
    "    countAvailabilityStats = countAvailabilityStats + model.calcStats(idx, 'Availability')[['mean','std']]\n",
    "    \n",
    "    countPopularity = countPopularity + model.popularity(idx)['popularity'] \n",
    "    \n",
    "    countPrecisionAt10 = countPrecisionAt10 + model.precision_at_n(idx)['precision_at_10'] "
   ]
  },
  {
   "cell_type": "code",
   "execution_count": 13,
   "metadata": {},
   "outputs": [
    {
     "data": {
      "text/html": [
       "<div>\n",
       "<style scoped>\n",
       "    .dataframe tbody tr th:only-of-type {\n",
       "        vertical-align: middle;\n",
       "    }\n",
       "\n",
       "    .dataframe tbody tr th {\n",
       "        vertical-align: top;\n",
       "    }\n",
       "\n",
       "    .dataframe thead th {\n",
       "        text-align: right;\n",
       "    }\n",
       "</style>\n",
       "<table border=\"1\" class=\"dataframe\">\n",
       "  <thead>\n",
       "    <tr style=\"text-align: right;\">\n",
       "      <th></th>\n",
       "      <th>RMSE</th>\n",
       "    </tr>\n",
       "  </thead>\n",
       "  <tbody>\n",
       "    <tr>\n",
       "      <th>cbf</th>\n",
       "      <td>0.572387</td>\n",
       "    </tr>\n",
       "    <tr>\n",
       "      <th>item_item</th>\n",
       "      <td>0.574672</td>\n",
       "    </tr>\n",
       "    <tr>\n",
       "      <th>mf</th>\n",
       "      <td>0.659029</td>\n",
       "    </tr>\n",
       "    <tr>\n",
       "      <th>pers_bias</th>\n",
       "      <td>0.666273</td>\n",
       "    </tr>\n",
       "    <tr>\n",
       "      <th>user_user</th>\n",
       "      <td>0.539678</td>\n",
       "    </tr>\n",
       "  </tbody>\n",
       "</table>\n",
       "</div>"
      ],
      "text/plain": [
       "               RMSE\n",
       "cbf        0.572387\n",
       "item_item  0.574672\n",
       "mf         0.659029\n",
       "pers_bias  0.666273\n",
       "user_user  0.539678"
      ]
     },
     "execution_count": 13,
     "metadata": {},
     "output_type": "execute_result"
    }
   ],
   "source": [
    "pd.DataFrame({'RMSE' : countRMSE / len(ratings.columns)},index = model.RCListNames)"
   ]
  },
  {
   "cell_type": "code",
   "execution_count": 14,
   "metadata": {},
   "outputs": [
    {
     "data": {
      "text/html": [
       "<div>\n",
       "<style scoped>\n",
       "    .dataframe tbody tr th:only-of-type {\n",
       "        vertical-align: middle;\n",
       "    }\n",
       "\n",
       "    .dataframe tbody tr th {\n",
       "        vertical-align: top;\n",
       "    }\n",
       "\n",
       "    .dataframe thead th {\n",
       "        text-align: right;\n",
       "    }\n",
       "</style>\n",
       "<table border=\"1\" class=\"dataframe\">\n",
       "  <thead>\n",
       "    <tr style=\"text-align: right;\">\n",
       "      <th></th>\n",
       "      <th>NDCG</th>\n",
       "    </tr>\n",
       "  </thead>\n",
       "  <tbody>\n",
       "    <tr>\n",
       "      <th>cbf</th>\n",
       "      <td>0.136505</td>\n",
       "    </tr>\n",
       "    <tr>\n",
       "      <th>item_item</th>\n",
       "      <td>0.146798</td>\n",
       "    </tr>\n",
       "    <tr>\n",
       "      <th>mf</th>\n",
       "      <td>0.155888</td>\n",
       "    </tr>\n",
       "    <tr>\n",
       "      <th>pers_bias</th>\n",
       "      <td>0.125180</td>\n",
       "    </tr>\n",
       "    <tr>\n",
       "      <th>user_user</th>\n",
       "      <td>0.169080</td>\n",
       "    </tr>\n",
       "  </tbody>\n",
       "</table>\n",
       "</div>"
      ],
      "text/plain": [
       "               NDCG\n",
       "cbf        0.136505\n",
       "item_item  0.146798\n",
       "mf         0.155888\n",
       "pers_bias  0.125180\n",
       "user_user  0.169080"
      ]
     },
     "execution_count": 14,
     "metadata": {},
     "output_type": "execute_result"
    }
   ],
   "source": [
    "pd.DataFrame({'NDCG' : countNDCG / len(ratings.columns)},index = model.RCListNames)"
   ]
  },
  {
   "cell_type": "code",
   "execution_count": 15,
   "metadata": {},
   "outputs": [
    {
     "data": {
      "text/html": [
       "<div>\n",
       "<style scoped>\n",
       "    .dataframe tbody tr th:only-of-type {\n",
       "        vertical-align: middle;\n",
       "    }\n",
       "\n",
       "    .dataframe tbody tr th {\n",
       "        vertical-align: top;\n",
       "    }\n",
       "\n",
       "    .dataframe thead th {\n",
       "        text-align: right;\n",
       "    }\n",
       "</style>\n",
       "<table border=\"1\" class=\"dataframe\">\n",
       "  <thead>\n",
       "    <tr style=\"text-align: right;\">\n",
       "      <th></th>\n",
       "      <th>mean</th>\n",
       "      <th>std</th>\n",
       "    </tr>\n",
       "  </thead>\n",
       "  <tbody>\n",
       "    <tr>\n",
       "      <th>cbf</th>\n",
       "      <td>19.241238</td>\n",
       "      <td>19.178071</td>\n",
       "    </tr>\n",
       "    <tr>\n",
       "      <th>item_item</th>\n",
       "      <td>25.883743</td>\n",
       "      <td>32.173458</td>\n",
       "    </tr>\n",
       "    <tr>\n",
       "      <th>mf</th>\n",
       "      <td>21.121133</td>\n",
       "      <td>26.189485</td>\n",
       "    </tr>\n",
       "    <tr>\n",
       "      <th>pers_bias</th>\n",
       "      <td>9.891000</td>\n",
       "      <td>5.121875</td>\n",
       "    </tr>\n",
       "    <tr>\n",
       "      <th>user_user</th>\n",
       "      <td>21.911497</td>\n",
       "      <td>25.222586</td>\n",
       "    </tr>\n",
       "  </tbody>\n",
       "</table>\n",
       "</div>"
      ],
      "text/plain": [
       "                mean        std\n",
       "cbf        19.241238  19.178071\n",
       "item_item  25.883743  32.173458\n",
       "mf         21.121133  26.189485\n",
       "pers_bias   9.891000   5.121875\n",
       "user_user  21.911497  25.222586"
      ]
     },
     "execution_count": 15,
     "metadata": {},
     "output_type": "execute_result"
    }
   ],
   "source": [
    "countPriceStats / len(ratings.columns)"
   ]
  },
  {
   "cell_type": "code",
   "execution_count": 16,
   "metadata": {},
   "outputs": [
    {
     "data": {
      "text/html": [
       "<div>\n",
       "<style scoped>\n",
       "    .dataframe tbody tr th:only-of-type {\n",
       "        vertical-align: middle;\n",
       "    }\n",
       "\n",
       "    .dataframe tbody tr th {\n",
       "        vertical-align: top;\n",
       "    }\n",
       "\n",
       "    .dataframe thead th {\n",
       "        text-align: right;\n",
       "    }\n",
       "</style>\n",
       "<table border=\"1\" class=\"dataframe\">\n",
       "  <thead>\n",
       "    <tr style=\"text-align: right;\">\n",
       "      <th></th>\n",
       "      <th>mean</th>\n",
       "      <th>std</th>\n",
       "    </tr>\n",
       "  </thead>\n",
       "  <tbody>\n",
       "    <tr>\n",
       "      <th>cbf</th>\n",
       "      <td>0.573888</td>\n",
       "      <td>0.175789</td>\n",
       "    </tr>\n",
       "    <tr>\n",
       "      <th>item_item</th>\n",
       "      <td>0.605725</td>\n",
       "      <td>0.173781</td>\n",
       "    </tr>\n",
       "    <tr>\n",
       "      <th>mf</th>\n",
       "      <td>0.561153</td>\n",
       "      <td>0.152596</td>\n",
       "    </tr>\n",
       "    <tr>\n",
       "      <th>pers_bias</th>\n",
       "      <td>0.588596</td>\n",
       "      <td>0.172630</td>\n",
       "    </tr>\n",
       "    <tr>\n",
       "      <th>user_user</th>\n",
       "      <td>0.632751</td>\n",
       "      <td>0.180219</td>\n",
       "    </tr>\n",
       "  </tbody>\n",
       "</table>\n",
       "</div>"
      ],
      "text/plain": [
       "               mean       std\n",
       "cbf        0.573888  0.175789\n",
       "item_item  0.605725  0.173781\n",
       "mf         0.561153  0.152596\n",
       "pers_bias  0.588596  0.172630\n",
       "user_user  0.632751  0.180219"
      ]
     },
     "execution_count": 16,
     "metadata": {},
     "output_type": "execute_result"
    }
   ],
   "source": [
    "countAvailabilityStats / len(ratings.columns)"
   ]
  },
  {
   "cell_type": "code",
   "execution_count": 17,
   "metadata": {},
   "outputs": [
    {
     "data": {
      "text/html": [
       "<div>\n",
       "<style scoped>\n",
       "    .dataframe tbody tr th:only-of-type {\n",
       "        vertical-align: middle;\n",
       "    }\n",
       "\n",
       "    .dataframe tbody tr th {\n",
       "        vertical-align: top;\n",
       "    }\n",
       "\n",
       "    .dataframe thead th {\n",
       "        text-align: right;\n",
       "    }\n",
       "</style>\n",
       "<table border=\"1\" class=\"dataframe\">\n",
       "  <thead>\n",
       "    <tr style=\"text-align: right;\">\n",
       "      <th></th>\n",
       "      <th>Popularity</th>\n",
       "    </tr>\n",
       "  </thead>\n",
       "  <tbody>\n",
       "    <tr>\n",
       "      <th>cbf</th>\n",
       "      <td>0.00</td>\n",
       "    </tr>\n",
       "    <tr>\n",
       "      <th>item_item</th>\n",
       "      <td>0.00</td>\n",
       "    </tr>\n",
       "    <tr>\n",
       "      <th>mf</th>\n",
       "      <td>0.00</td>\n",
       "    </tr>\n",
       "    <tr>\n",
       "      <th>pers_bias</th>\n",
       "      <td>0.00</td>\n",
       "    </tr>\n",
       "    <tr>\n",
       "      <th>user_user</th>\n",
       "      <td>0.01</td>\n",
       "    </tr>\n",
       "  </tbody>\n",
       "</table>\n",
       "</div>"
      ],
      "text/plain": [
       "           Popularity\n",
       "cbf              0.00\n",
       "item_item        0.00\n",
       "mf               0.00\n",
       "pers_bias        0.00\n",
       "user_user        0.01"
      ]
     },
     "execution_count": 17,
     "metadata": {},
     "output_type": "execute_result"
    }
   ],
   "source": [
    "pd.DataFrame({'Popularity' : countPopularity / len(ratings.columns)},index = model.RCListNames)"
   ]
  },
  {
   "cell_type": "code",
   "execution_count": 18,
   "metadata": {},
   "outputs": [
    {
     "data": {
      "text/html": [
       "<div>\n",
       "<style scoped>\n",
       "    .dataframe tbody tr th:only-of-type {\n",
       "        vertical-align: middle;\n",
       "    }\n",
       "\n",
       "    .dataframe tbody tr th {\n",
       "        vertical-align: top;\n",
       "    }\n",
       "\n",
       "    .dataframe thead th {\n",
       "        text-align: right;\n",
       "    }\n",
       "</style>\n",
       "<table border=\"1\" class=\"dataframe\">\n",
       "  <thead>\n",
       "    <tr style=\"text-align: right;\">\n",
       "      <th></th>\n",
       "      <th>Precision@10</th>\n",
       "    </tr>\n",
       "  </thead>\n",
       "  <tbody>\n",
       "    <tr>\n",
       "      <th>cbf</th>\n",
       "      <td>0.061</td>\n",
       "    </tr>\n",
       "    <tr>\n",
       "      <th>item_item</th>\n",
       "      <td>0.073</td>\n",
       "    </tr>\n",
       "    <tr>\n",
       "      <th>mf</th>\n",
       "      <td>0.082</td>\n",
       "    </tr>\n",
       "    <tr>\n",
       "      <th>pers_bias</th>\n",
       "      <td>0.075</td>\n",
       "    </tr>\n",
       "    <tr>\n",
       "      <th>user_user</th>\n",
       "      <td>0.068</td>\n",
       "    </tr>\n",
       "  </tbody>\n",
       "</table>\n",
       "</div>"
      ],
      "text/plain": [
       "           Precision@10\n",
       "cbf               0.061\n",
       "item_item         0.073\n",
       "mf                0.082\n",
       "pers_bias         0.075\n",
       "user_user         0.068"
      ]
     },
     "execution_count": 18,
     "metadata": {},
     "output_type": "execute_result"
    }
   ],
   "source": [
    "pd.DataFrame({'Precision@10' : countPrecisionAt10 / len(ratings.columns)},index = model.RCListNames)"
   ]
  },
  {
   "cell_type": "markdown",
   "metadata": {},
   "source": [
    "# Results\n",
    "\n",
    "RMSE: pers_bias and mf get the best result.\n",
    "\n",
    "NDCG: user-user gets the best result.\n",
    "\n",
    "Prices stats: item_item algorithm is the most diverse, provides products varies almost 32 dollars from the mean of item price list. MF and user_user are 26 and 25 respectively. An interesting issue is the pers_bias algorithm, it recommends low mean items with low std.\n",
    "\n",
    "Availabity stats: user_user recommends items not so present in the local stores together with items present in local stores.\n",
    "\n",
    "Popularity: None of algorithms actually managed to obtain good scores. Maybe, we must change our topN(=10) parameter.\n",
    "\n",
    "Precision@10: MF gets the result. Must be tried with different N values.\n",
    "\n",
    "Final thoughts\n",
    "MF gets the best results in terms of RMSE and Precision@N. For other metrics user-user offers good performance. Hybrid solution with MF and user-user may be gives model. For cold-start and sparsity problems, CBF is always for an another option."
   ]
  },
  {
   "cell_type": "markdown",
   "metadata": {},
   "source": [
    "# CAPSTONE PART 2"
   ]
  },
  {
   "cell_type": "markdown",
   "metadata": {},
   "source": [
    "## Hibrid Techniques\n",
    "\n",
    "1- Linear ensemble\n",
    "2- Non linear ensemble\n",
    "3- Top item from each recommender\n",
    "4- Recommender switching\n",
    "\n",
    "The first two options evaluation will be RMSE.\n",
    "\n",
    "The third approach will get the top recommendation from each algorithm and measurement of this hibrid model will be precision@5\n",
    "\n",
    "The fourth algorithm has examines cold start / sparsity conditions and combines collaborative algorithms with CBF which is non-personalized."
   ]
  },
  {
   "cell_type": "markdown",
   "metadata": {},
   "source": [
    "## Dataset Creation and User Sample Definition\n",
    "### Dataset\n",
    "For the first and second approach, we need another perspective on the data. The dataset contains all the existing ratings from all users and concatenates all the predictions made the 5 traditional recommenders. The idea is to use the observed rating as target variable and all recommenders' predictions as dependent variable."
   ]
  },
  {
   "cell_type": "code",
   "execution_count": 21,
   "metadata": {},
   "outputs": [
    {
     "data": {
      "text/html": [
       "<div>\n",
       "<style scoped>\n",
       "    .dataframe tbody tr th:only-of-type {\n",
       "        vertical-align: middle;\n",
       "    }\n",
       "\n",
       "    .dataframe tbody tr th {\n",
       "        vertical-align: top;\n",
       "    }\n",
       "\n",
       "    .dataframe thead th {\n",
       "        text-align: right;\n",
       "    }\n",
       "</style>\n",
       "<table border=\"1\" class=\"dataframe\">\n",
       "  <thead>\n",
       "    <tr style=\"text-align: right;\">\n",
       "      <th></th>\n",
       "      <th>rating</th>\n",
       "      <th>cbf</th>\n",
       "      <th>user_user</th>\n",
       "      <th>item_item</th>\n",
       "      <th>mf</th>\n",
       "      <th>pers_bias</th>\n",
       "    </tr>\n",
       "  </thead>\n",
       "  <tbody>\n",
       "    <tr>\n",
       "      <th>0</th>\n",
       "      <td>4.0</td>\n",
       "      <td>4.204670</td>\n",
       "      <td>3.997032</td>\n",
       "      <td>4.020528</td>\n",
       "      <td>4.293189</td>\n",
       "      <td>4.221597</td>\n",
       "    </tr>\n",
       "    <tr>\n",
       "      <th>1</th>\n",
       "      <td>5.0</td>\n",
       "      <td>4.784942</td>\n",
       "      <td>4.962889</td>\n",
       "      <td>4.850921</td>\n",
       "      <td>4.703951</td>\n",
       "      <td>4.659690</td>\n",
       "    </tr>\n",
       "    <tr>\n",
       "      <th>2</th>\n",
       "      <td>4.0</td>\n",
       "      <td>4.522897</td>\n",
       "      <td>4.111147</td>\n",
       "      <td>4.538863</td>\n",
       "      <td>4.653262</td>\n",
       "      <td>4.613524</td>\n",
       "    </tr>\n",
       "    <tr>\n",
       "      <th>3</th>\n",
       "      <td>5.0</td>\n",
       "      <td>4.721176</td>\n",
       "      <td>5.040519</td>\n",
       "      <td>4.687212</td>\n",
       "      <td>4.675896</td>\n",
       "      <td>4.657269</td>\n",
       "    </tr>\n",
       "    <tr>\n",
       "      <th>4</th>\n",
       "      <td>3.0</td>\n",
       "      <td>4.368981</td>\n",
       "      <td>4.460465</td>\n",
       "      <td>4.321261</td>\n",
       "      <td>4.358705</td>\n",
       "      <td>4.352745</td>\n",
       "    </tr>\n",
       "  </tbody>\n",
       "</table>\n",
       "</div>"
      ],
      "text/plain": [
       "   rating       cbf  user_user  item_item        mf  pers_bias\n",
       "0     4.0  4.204670   3.997032   4.020528  4.293189   4.221597\n",
       "1     5.0  4.784942   4.962889   4.850921  4.703951   4.659690\n",
       "2     4.0  4.522897   4.111147   4.538863  4.653262   4.613524\n",
       "3     5.0  4.721176   5.040519   4.687212  4.675896   4.657269\n",
       "4     3.0  4.368981   4.460465   4.321261  4.358705   4.352745"
      ]
     },
     "execution_count": 21,
     "metadata": {},
     "output_type": "execute_result"
    }
   ],
   "source": [
    "ratingList = []\n",
    "cbfList = []\n",
    "user_userList = []\n",
    "item_itemList = []\n",
    "mfList = []\n",
    "pers_biasList = []\n",
    "\n",
    "model = Model(items, ratings, cbf, item_item, mf, pers_bias, user_user)\n",
    "for userId in ratings.columns:\n",
    "    \n",
    "    userRatings = model.getRatings(userId)\n",
    "    ratingList.extend(userRatings.values)\n",
    "    \n",
    "    cbfList.extend(cbf.loc[userRatings.index, userId].values)\n",
    "    item_itemList.extend(item_item.loc[userRatings.index, userId].values)\n",
    "    mfList.extend(mf.loc[userRatings.index, userId].values)\n",
    "    pers_biasList.extend(pers_bias.loc[userRatings.index, userId].values)\n",
    "    user_userList.extend(user_user.loc[userRatings.index, userId].values)\n",
    "\n",
    "dataset = pd.DataFrame({'rating': ratingList, 'cbf':cbfList, 'user_user': user_userList,\n",
    "             'item_item':item_itemList, 'mf':mfList,'pers_bias':pers_biasList})\n",
    "dataset = dataset.dropna()\n",
    "dataset.head()"
   ]
  },
  {
   "cell_type": "markdown",
   "metadata": {},
   "source": [
    "### In order to have an idea of the results, let's choose 3 users randomly to show the predictions using the new hybrid models"
   ]
  },
  {
   "cell_type": "code",
   "execution_count": 24,
   "metadata": {},
   "outputs": [
    {
     "name": "stdout",
     "output_type": "stream",
     "text": [
      "randomUsers: ['75' '1147' '690']\n"
     ]
    }
   ],
   "source": [
    "np.random.seed(666)\n",
    "randomUsers = np.random.choice(ratings.columns, 3).astype(str)\n",
    "print('randomUsers: ' + str(randomUsers))"
   ]
  },
  {
   "cell_type": "markdown",
   "metadata": {},
   "source": [
    "### Get recommenders' predictions for sample users in order to create input for ensemble models (1 and 2)"
   ]
  },
  {
   "cell_type": "code",
   "execution_count": 30,
   "metadata": {},
   "outputs": [
    {
     "data": {
      "text/html": [
       "<div>\n",
       "<style scoped>\n",
       "    .dataframe tbody tr th:only-of-type {\n",
       "        vertical-align: middle;\n",
       "    }\n",
       "\n",
       "    .dataframe tbody tr th {\n",
       "        vertical-align: top;\n",
       "    }\n",
       "\n",
       "    .dataframe thead th {\n",
       "        text-align: right;\n",
       "    }\n",
       "</style>\n",
       "<table border=\"1\" class=\"dataframe\">\n",
       "  <thead>\n",
       "    <tr style=\"text-align: right;\">\n",
       "      <th></th>\n",
       "      <th>user</th>\n",
       "      <th>item</th>\n",
       "      <th>cbf</th>\n",
       "      <th>user_user</th>\n",
       "      <th>item_item</th>\n",
       "      <th>mf</th>\n",
       "      <th>pers_bias</th>\n",
       "    </tr>\n",
       "  </thead>\n",
       "  <tbody>\n",
       "    <tr>\n",
       "      <th>0</th>\n",
       "      <td>75</td>\n",
       "      <td>24</td>\n",
       "      <td>5.101361</td>\n",
       "      <td>4.458179</td>\n",
       "      <td>5.298740</td>\n",
       "      <td>4.980338</td>\n",
       "      <td>5.072294</td>\n",
       "    </tr>\n",
       "    <tr>\n",
       "      <th>1</th>\n",
       "      <td>75</td>\n",
       "      <td>30</td>\n",
       "      <td>5.131722</td>\n",
       "      <td>4.646025</td>\n",
       "      <td>4.944408</td>\n",
       "      <td>4.942925</td>\n",
       "      <td>5.074133</td>\n",
       "    </tr>\n",
       "    <tr>\n",
       "      <th>2</th>\n",
       "      <td>75</td>\n",
       "      <td>35</td>\n",
       "      <td>4.969127</td>\n",
       "      <td>4.835609</td>\n",
       "      <td>4.902414</td>\n",
       "      <td>4.852639</td>\n",
       "      <td>4.911237</td>\n",
       "    </tr>\n",
       "    <tr>\n",
       "      <th>3</th>\n",
       "      <td>75</td>\n",
       "      <td>41</td>\n",
       "      <td>5.136817</td>\n",
       "      <td>4.586768</td>\n",
       "      <td>4.764456</td>\n",
       "      <td>5.009094</td>\n",
       "      <td>5.082116</td>\n",
       "    </tr>\n",
       "    <tr>\n",
       "      <th>4</th>\n",
       "      <td>75</td>\n",
       "      <td>45</td>\n",
       "      <td>5.103202</td>\n",
       "      <td>4.748397</td>\n",
       "      <td>4.912413</td>\n",
       "      <td>5.046869</td>\n",
       "      <td>5.069962</td>\n",
       "    </tr>\n",
       "  </tbody>\n",
       "</table>\n",
       "</div>"
      ],
      "text/plain": [
       "  user  item       cbf  user_user  item_item        mf  pers_bias\n",
       "0   75    24  5.101361   4.458179   5.298740  4.980338   5.072294\n",
       "1   75    30  5.131722   4.646025   4.944408  4.942925   5.074133\n",
       "2   75    35  4.969127   4.835609   4.902414  4.852639   4.911237\n",
       "3   75    41  5.136817   4.586768   4.764456  5.009094   5.082116\n",
       "4   75    45  5.103202   4.748397   4.912413  5.046869   5.069962"
      ]
     },
     "execution_count": 30,
     "metadata": {},
     "output_type": "execute_result"
    }
   ],
   "source": [
    "from collections import OrderedDict\n",
    "\n",
    "sampleDF = pd.DataFrame()\n",
    "for user in randomUsers:\n",
    "    cbf = model.cbf[user]\n",
    "    item_item = model.item_item[user]\n",
    "    mf = model.mf[user]\n",
    "    pers_bias = model.pers_bias[user]\n",
    "    user_user = model.user_user[user]\n",
    "    sampleDF = sampleDF.append(pd.DataFrame(OrderedDict({'user':user,'item':ratings.index.values,'cbf':cbf, 'user_user':user_user, 'item_item':item_item,\n",
    "              'mf':mf,'pers_bias':pers_bias})), ignore_index=True)\n",
    "    \n",
    "sampleDF.head()"
   ]
  },
  {
   "cell_type": "markdown",
   "metadata": {},
   "source": [
    "### 1- Linear Model RMSE Performance"
   ]
  },
  {
   "cell_type": "code",
   "execution_count": 31,
   "metadata": {},
   "outputs": [
    {
     "name": "stdout",
     "output_type": "stream",
     "text": [
      "RMSE for linear model\n"
     ]
    },
    {
     "data": {
      "text/plain": [
       "0.6250427976495756"
      ]
     },
     "execution_count": 31,
     "metadata": {},
     "output_type": "execute_result"
    }
   ],
   "source": [
    "from sklearn.linear_model import LinearRegression\n",
    "from sklearn.model_selection import cross_val_score\n",
    "\n",
    "linear = LinearRegression()\n",
    "print('RMSE for linear model')\n",
    "np.mean(cross_val_score(linear, dataset.drop('rating', axis=1), dataset['rating'], cv=5))"
   ]
  },
  {
   "cell_type": "markdown",
   "metadata": {},
   "source": [
    "### Predictions for sample users: Creating top 5 recommendations for sample users"
   ]
  },
  {
   "cell_type": "code",
   "execution_count": 32,
   "metadata": {},
   "outputs": [
    {
     "data": {
      "text/html": [
       "<div>\n",
       "<style scoped>\n",
       "    .dataframe tbody tr th:only-of-type {\n",
       "        vertical-align: middle;\n",
       "    }\n",
       "\n",
       "    .dataframe tbody tr th {\n",
       "        vertical-align: top;\n",
       "    }\n",
       "\n",
       "    .dataframe thead th {\n",
       "        text-align: right;\n",
       "    }\n",
       "</style>\n",
       "<table border=\"1\" class=\"dataframe\">\n",
       "  <thead>\n",
       "    <tr style=\"text-align: right;\">\n",
       "      <th></th>\n",
       "      <th></th>\n",
       "      <th>user</th>\n",
       "      <th>item</th>\n",
       "      <th>predictions</th>\n",
       "    </tr>\n",
       "    <tr>\n",
       "      <th>user</th>\n",
       "      <th></th>\n",
       "      <th></th>\n",
       "      <th></th>\n",
       "      <th></th>\n",
       "    </tr>\n",
       "  </thead>\n",
       "  <tbody>\n",
       "    <tr>\n",
       "      <th rowspan=\"5\" valign=\"top\">1147</th>\n",
       "      <th>246</th>\n",
       "      <td>1147</td>\n",
       "      <td>1032</td>\n",
       "      <td>5.064207</td>\n",
       "    </tr>\n",
       "    <tr>\n",
       "      <th>273</th>\n",
       "      <td>1147</td>\n",
       "      <td>1323</td>\n",
       "      <td>5.043187</td>\n",
       "    </tr>\n",
       "    <tr>\n",
       "      <th>367</th>\n",
       "      <td>1147</td>\n",
       "      <td>2117</td>\n",
       "      <td>5.017629</td>\n",
       "    </tr>\n",
       "    <tr>\n",
       "      <th>295</th>\n",
       "      <td>1147</td>\n",
       "      <td>1461</td>\n",
       "      <td>5.015100</td>\n",
       "    </tr>\n",
       "    <tr>\n",
       "      <th>220</th>\n",
       "      <td>1147</td>\n",
       "      <td>327</td>\n",
       "      <td>4.969657</td>\n",
       "    </tr>\n",
       "    <tr>\n",
       "      <th rowspan=\"5\" valign=\"top\">690</th>\n",
       "      <th>571</th>\n",
       "      <td>690</td>\n",
       "      <td>2172</td>\n",
       "      <td>4.625623</td>\n",
       "    </tr>\n",
       "    <tr>\n",
       "      <th>403</th>\n",
       "      <td>690</td>\n",
       "      <td>41</td>\n",
       "      <td>4.608204</td>\n",
       "    </tr>\n",
       "    <tr>\n",
       "      <th>410</th>\n",
       "      <td>690</td>\n",
       "      <td>133</td>\n",
       "      <td>4.314246</td>\n",
       "    </tr>\n",
       "    <tr>\n",
       "      <th>426</th>\n",
       "      <td>690</td>\n",
       "      <td>482</td>\n",
       "      <td>4.298487</td>\n",
       "    </tr>\n",
       "    <tr>\n",
       "      <th>405</th>\n",
       "      <td>690</td>\n",
       "      <td>71</td>\n",
       "      <td>4.252462</td>\n",
       "    </tr>\n",
       "    <tr>\n",
       "      <th rowspan=\"5\" valign=\"top\">75</th>\n",
       "      <th>162</th>\n",
       "      <td>75</td>\n",
       "      <td>2080</td>\n",
       "      <td>5.161166</td>\n",
       "    </tr>\n",
       "    <tr>\n",
       "      <th>166</th>\n",
       "      <td>75</td>\n",
       "      <td>2101</td>\n",
       "      <td>5.157187</td>\n",
       "    </tr>\n",
       "    <tr>\n",
       "      <th>133</th>\n",
       "      <td>75</td>\n",
       "      <td>1806</td>\n",
       "      <td>5.147502</td>\n",
       "    </tr>\n",
       "    <tr>\n",
       "      <th>20</th>\n",
       "      <td>75</td>\n",
       "      <td>327</td>\n",
       "      <td>5.138770</td>\n",
       "    </tr>\n",
       "    <tr>\n",
       "      <th>169</th>\n",
       "      <td>75</td>\n",
       "      <td>2169</td>\n",
       "      <td>5.133640</td>\n",
       "    </tr>\n",
       "  </tbody>\n",
       "</table>\n",
       "</div>"
      ],
      "text/plain": [
       "          user  item  predictions\n",
       "user                             \n",
       "1147 246  1147  1032     5.064207\n",
       "     273  1147  1323     5.043187\n",
       "     367  1147  2117     5.017629\n",
       "     295  1147  1461     5.015100\n",
       "     220  1147   327     4.969657\n",
       "690  571   690  2172     4.625623\n",
       "     403   690    41     4.608204\n",
       "     410   690   133     4.314246\n",
       "     426   690   482     4.298487\n",
       "     405   690    71     4.252462\n",
       "75   162    75  2080     5.161166\n",
       "     166    75  2101     5.157187\n",
       "     133    75  1806     5.147502\n",
       "     20     75   327     5.138770\n",
       "     169    75  2169     5.133640"
      ]
     },
     "execution_count": 32,
     "metadata": {},
     "output_type": "execute_result"
    }
   ],
   "source": [
    "predCols = ['cbf','user_user','item_item','mf','pers_bias']\n",
    "predictions = linear.fit(dataset.drop('rating', axis=1), dataset['rating']).predict(sampleDF[predCols])\n",
    "recommendations = pd.DataFrame(OrderedDict({'user':sampleDF['user'], 'item':sampleDF['item'], 'predictions':predictions}))\n",
    "recommendations.groupby('user').apply(lambda x : x.loc[x['predictions'].sort_values(ascending=False)[:5].index.values])"
   ]
  },
  {
   "cell_type": "markdown",
   "metadata": {},
   "source": [
    "###  2- Non linear ensemble RMSE Performance"
   ]
  },
  {
   "cell_type": "code",
   "execution_count": 33,
   "metadata": {},
   "outputs": [
    {
     "name": "stdout",
     "output_type": "stream",
     "text": [
      "RMSE for non linear ensemble\n"
     ]
    },
    {
     "data": {
      "text/plain": [
       "0.6031692894223708"
      ]
     },
     "execution_count": 33,
     "metadata": {},
     "output_type": "execute_result"
    }
   ],
   "source": [
    "from sklearn.ensemble import RandomForestRegressor\n",
    "\n",
    "rf = RandomForestRegressor(random_state=666)\n",
    "print('RMSE for non linear ensemble')\n",
    "np.mean(cross_val_score(rf, dataset.drop('rating', axis=1), dataset['rating'], cv=5))"
   ]
  },
  {
   "cell_type": "markdown",
   "metadata": {},
   "source": [
    "### Predictions for sample users: Creating top 5 recommendations for sample users"
   ]
  },
  {
   "cell_type": "code",
   "execution_count": 35,
   "metadata": {},
   "outputs": [
    {
     "data": {
      "text/html": [
       "<div>\n",
       "<style scoped>\n",
       "    .dataframe tbody tr th:only-of-type {\n",
       "        vertical-align: middle;\n",
       "    }\n",
       "\n",
       "    .dataframe tbody tr th {\n",
       "        vertical-align: top;\n",
       "    }\n",
       "\n",
       "    .dataframe thead th {\n",
       "        text-align: right;\n",
       "    }\n",
       "</style>\n",
       "<table border=\"1\" class=\"dataframe\">\n",
       "  <thead>\n",
       "    <tr style=\"text-align: right;\">\n",
       "      <th></th>\n",
       "      <th></th>\n",
       "      <th>user</th>\n",
       "      <th>item</th>\n",
       "      <th>predictions</th>\n",
       "    </tr>\n",
       "    <tr>\n",
       "      <th>user</th>\n",
       "      <th></th>\n",
       "      <th></th>\n",
       "      <th></th>\n",
       "      <th></th>\n",
       "    </tr>\n",
       "  </thead>\n",
       "  <tbody>\n",
       "    <tr>\n",
       "      <th rowspan=\"5\" valign=\"top\">1147</th>\n",
       "      <th>255</th>\n",
       "      <td>1147</td>\n",
       "      <td>1240</td>\n",
       "      <td>5.00</td>\n",
       "    </tr>\n",
       "    <tr>\n",
       "      <th>251</th>\n",
       "      <td>1147</td>\n",
       "      <td>1148</td>\n",
       "      <td>5.00</td>\n",
       "    </tr>\n",
       "    <tr>\n",
       "      <th>233</th>\n",
       "      <td>1147</td>\n",
       "      <td>756</td>\n",
       "      <td>5.00</td>\n",
       "    </tr>\n",
       "    <tr>\n",
       "      <th>265</th>\n",
       "      <td>1147</td>\n",
       "      <td>1296</td>\n",
       "      <td>5.00</td>\n",
       "    </tr>\n",
       "    <tr>\n",
       "      <th>268</th>\n",
       "      <td>1147</td>\n",
       "      <td>1299</td>\n",
       "      <td>5.00</td>\n",
       "    </tr>\n",
       "    <tr>\n",
       "      <th rowspan=\"5\" valign=\"top\">690</th>\n",
       "      <th>466</th>\n",
       "      <td>690</td>\n",
       "      <td>1297</td>\n",
       "      <td>4.94</td>\n",
       "    </tr>\n",
       "    <tr>\n",
       "      <th>462</th>\n",
       "      <td>690</td>\n",
       "      <td>1292</td>\n",
       "      <td>4.87</td>\n",
       "    </tr>\n",
       "    <tr>\n",
       "      <th>403</th>\n",
       "      <td>690</td>\n",
       "      <td>41</td>\n",
       "      <td>4.85</td>\n",
       "    </tr>\n",
       "    <tr>\n",
       "      <th>571</th>\n",
       "      <td>690</td>\n",
       "      <td>2172</td>\n",
       "      <td>4.77</td>\n",
       "    </tr>\n",
       "    <tr>\n",
       "      <th>425</th>\n",
       "      <td>690</td>\n",
       "      <td>454</td>\n",
       "      <td>4.66</td>\n",
       "    </tr>\n",
       "    <tr>\n",
       "      <th rowspan=\"5\" valign=\"top\">75</th>\n",
       "      <th>66</th>\n",
       "      <td>75</td>\n",
       "      <td>1297</td>\n",
       "      <td>5.00</td>\n",
       "    </tr>\n",
       "    <tr>\n",
       "      <th>20</th>\n",
       "      <td>75</td>\n",
       "      <td>327</td>\n",
       "      <td>5.00</td>\n",
       "    </tr>\n",
       "    <tr>\n",
       "      <th>78</th>\n",
       "      <td>75</td>\n",
       "      <td>1330</td>\n",
       "      <td>5.00</td>\n",
       "    </tr>\n",
       "    <tr>\n",
       "      <th>166</th>\n",
       "      <td>75</td>\n",
       "      <td>2101</td>\n",
       "      <td>5.00</td>\n",
       "    </tr>\n",
       "    <tr>\n",
       "      <th>34</th>\n",
       "      <td>75</td>\n",
       "      <td>779</td>\n",
       "      <td>5.00</td>\n",
       "    </tr>\n",
       "  </tbody>\n",
       "</table>\n",
       "</div>"
      ],
      "text/plain": [
       "          user  item  predictions\n",
       "user                             \n",
       "1147 255  1147  1240         5.00\n",
       "     251  1147  1148         5.00\n",
       "     233  1147   756         5.00\n",
       "     265  1147  1296         5.00\n",
       "     268  1147  1299         5.00\n",
       "690  466   690  1297         4.94\n",
       "     462   690  1292         4.87\n",
       "     403   690    41         4.85\n",
       "     571   690  2172         4.77\n",
       "     425   690   454         4.66\n",
       "75   66     75  1297         5.00\n",
       "     20     75   327         5.00\n",
       "     78     75  1330         5.00\n",
       "     166    75  2101         5.00\n",
       "     34     75   779         5.00"
      ]
     },
     "execution_count": 35,
     "metadata": {},
     "output_type": "execute_result"
    }
   ],
   "source": [
    "predictions = rf.fit(dataset.drop('rating', axis=1), dataset['rating']).predict(sampleDF[predCols])\n",
    "recommendations = pd.DataFrame(OrderedDict({'user':sampleDF['user'], 'item':sampleDF['item'], 'predictions':predictions}))\n",
    "recommendations.groupby('user').apply(lambda x : x.loc[x['predictions'].sort_values(ascending=False)[:5].index.values])"
   ]
  },
  {
   "cell_type": "markdown",
   "metadata": {},
   "source": [
    "### 3- Top item from each recommender performance\n"
   ]
  },
  {
   "cell_type": "markdown",
   "metadata": {},
   "source": [
    "With top item recommender, we can evaluate its performance not just with RMSE, but all the list metrics we evaluated before. \n",
    "We will also pay more attention to the precision@5 metric."
   ]
  },
  {
   "cell_type": "code",
   "execution_count": 36,
   "metadata": {},
   "outputs": [],
   "source": [
    "countNDCG = np.array([0])\n",
    "countPriceStats = np.ndarray([1,2])\n",
    "countAvailabilityStats = np.ndarray([1,2])\n",
    "countPopularity = np.array([0])\n",
    "countPrecisionAt5 = np.array([0])\n",
    "\n",
    "for idx in ratings.columns:\n",
    "    top1 = model.getTopNRecommendation(userId, 1)\n",
    "    userItems = {}\n",
    "    userItems['top1'] = [x[0] for x in top1.values()]\n",
    "    \n",
    "    countNDCG = countNDCG + model.NDCG(idx, indvRecommendation=userItems)['NDCG']\n",
    "    \n",
    "    countPriceStats = countPriceStats + model.calcStats(idx, 'Price', indvRecommendation=userItems)[['mean','std']]\n",
    "    \n",
    "    countAvailabilityStats = countAvailabilityStats + model.calcStats(idx, 'Availability', indvRecommendation=userItems)[['mean','std']]\n",
    "    \n",
    "    countPopularity = countPopularity + model.popularity(idx, indvRecommendation=userItems)['popularity'] \n",
    "    \n",
    "    countPrecisionAt5 = countPrecisionAt5 + model.precision_at_n(idx, topN=5, indvRecommendation=userItems)['precision_at_5'] "
   ]
  },
  {
   "cell_type": "code",
   "execution_count": 41,
   "metadata": {},
   "outputs": [
    {
     "data": {
      "text/html": [
       "<div>\n",
       "<style scoped>\n",
       "    .dataframe tbody tr th:only-of-type {\n",
       "        vertical-align: middle;\n",
       "    }\n",
       "\n",
       "    .dataframe tbody tr th {\n",
       "        vertical-align: top;\n",
       "    }\n",
       "\n",
       "    .dataframe thead th {\n",
       "        text-align: right;\n",
       "    }\n",
       "</style>\n",
       "<table border=\"1\" class=\"dataframe\">\n",
       "  <thead>\n",
       "    <tr style=\"text-align: right;\">\n",
       "      <th></th>\n",
       "      <th>NDCG</th>\n",
       "    </tr>\n",
       "  </thead>\n",
       "  <tbody>\n",
       "    <tr>\n",
       "      <th>top1</th>\n",
       "      <td>0.100936</td>\n",
       "    </tr>\n",
       "  </tbody>\n",
       "</table>\n",
       "</div>"
      ],
      "text/plain": [
       "          NDCG\n",
       "top1  0.100936"
      ]
     },
     "execution_count": 41,
     "metadata": {},
     "output_type": "execute_result"
    }
   ],
   "source": [
    "pd.DataFrame({'NDCG' : countNDCG / len(ratings.columns)})"
   ]
  },
  {
   "cell_type": "code",
   "execution_count": 42,
   "metadata": {},
   "outputs": [
    {
     "data": {
      "text/html": [
       "<div>\n",
       "<style scoped>\n",
       "    .dataframe tbody tr th:only-of-type {\n",
       "        vertical-align: middle;\n",
       "    }\n",
       "\n",
       "    .dataframe tbody tr th {\n",
       "        vertical-align: top;\n",
       "    }\n",
       "\n",
       "    .dataframe thead th {\n",
       "        text-align: right;\n",
       "    }\n",
       "</style>\n",
       "<table border=\"1\" class=\"dataframe\">\n",
       "  <thead>\n",
       "    <tr style=\"text-align: right;\">\n",
       "      <th></th>\n",
       "      <th>mean</th>\n",
       "      <th>std</th>\n",
       "    </tr>\n",
       "  </thead>\n",
       "  <tbody>\n",
       "    <tr>\n",
       "      <th>top1</th>\n",
       "      <td>17.786</td>\n",
       "      <td>-66.558379</td>\n",
       "    </tr>\n",
       "  </tbody>\n",
       "</table>\n",
       "</div>"
      ],
      "text/plain": [
       "        mean        std\n",
       "top1  17.786 -66.558379"
      ]
     },
     "execution_count": 42,
     "metadata": {},
     "output_type": "execute_result"
    }
   ],
   "source": [
    "countPriceStats / len(ratings.columns)"
   ]
  },
  {
   "cell_type": "code",
   "execution_count": 43,
   "metadata": {},
   "outputs": [
    {
     "data": {
      "text/html": [
       "<div>\n",
       "<style scoped>\n",
       "    .dataframe tbody tr th:only-of-type {\n",
       "        vertical-align: middle;\n",
       "    }\n",
       "\n",
       "    .dataframe tbody tr th {\n",
       "        vertical-align: top;\n",
       "    }\n",
       "\n",
       "    .dataframe thead th {\n",
       "        text-align: right;\n",
       "    }\n",
       "</style>\n",
       "<table border=\"1\" class=\"dataframe\">\n",
       "  <thead>\n",
       "    <tr style=\"text-align: right;\">\n",
       "      <th></th>\n",
       "      <th>mean</th>\n",
       "      <th>std</th>\n",
       "    </tr>\n",
       "  </thead>\n",
       "  <tbody>\n",
       "    <tr>\n",
       "      <th>top1</th>\n",
       "      <td>0.540615</td>\n",
       "      <td>0.104223</td>\n",
       "    </tr>\n",
       "  </tbody>\n",
       "</table>\n",
       "</div>"
      ],
      "text/plain": [
       "          mean       std\n",
       "top1  0.540615  0.104223"
      ]
     },
     "execution_count": 43,
     "metadata": {},
     "output_type": "execute_result"
    }
   ],
   "source": [
    "countAvailabilityStats / len(ratings.columns)"
   ]
  },
  {
   "cell_type": "code",
   "execution_count": 45,
   "metadata": {},
   "outputs": [
    {
     "data": {
      "text/html": [
       "<div>\n",
       "<style scoped>\n",
       "    .dataframe tbody tr th:only-of-type {\n",
       "        vertical-align: middle;\n",
       "    }\n",
       "\n",
       "    .dataframe tbody tr th {\n",
       "        vertical-align: top;\n",
       "    }\n",
       "\n",
       "    .dataframe thead th {\n",
       "        text-align: right;\n",
       "    }\n",
       "</style>\n",
       "<table border=\"1\" class=\"dataframe\">\n",
       "  <thead>\n",
       "    <tr style=\"text-align: right;\">\n",
       "      <th></th>\n",
       "      <th>Popularity</th>\n",
       "    </tr>\n",
       "  </thead>\n",
       "  <tbody>\n",
       "    <tr>\n",
       "      <th>top1</th>\n",
       "      <td>0.0</td>\n",
       "    </tr>\n",
       "  </tbody>\n",
       "</table>\n",
       "</div>"
      ],
      "text/plain": [
       "      Popularity\n",
       "top1         0.0"
      ]
     },
     "execution_count": 45,
     "metadata": {},
     "output_type": "execute_result"
    }
   ],
   "source": [
    "pd.DataFrame({'Popularity' : countPopularity / len(ratings.columns)})"
   ]
  },
  {
   "cell_type": "code",
   "execution_count": 47,
   "metadata": {},
   "outputs": [
    {
     "data": {
      "text/html": [
       "<div>\n",
       "<style scoped>\n",
       "    .dataframe tbody tr th:only-of-type {\n",
       "        vertical-align: middle;\n",
       "    }\n",
       "\n",
       "    .dataframe tbody tr th {\n",
       "        vertical-align: top;\n",
       "    }\n",
       "\n",
       "    .dataframe thead th {\n",
       "        text-align: right;\n",
       "    }\n",
       "</style>\n",
       "<table border=\"1\" class=\"dataframe\">\n",
       "  <thead>\n",
       "    <tr style=\"text-align: right;\">\n",
       "      <th></th>\n",
       "      <th>Precision@10</th>\n",
       "    </tr>\n",
       "  </thead>\n",
       "  <tbody>\n",
       "    <tr>\n",
       "      <th>top1</th>\n",
       "      <td>0.04</td>\n",
       "    </tr>\n",
       "  </tbody>\n",
       "</table>\n",
       "</div>"
      ],
      "text/plain": [
       "      Precision@10\n",
       "top1          0.04"
      ]
     },
     "execution_count": 47,
     "metadata": {},
     "output_type": "execute_result"
    }
   ],
   "source": [
    "pd.DataFrame({'Precision@10' : countPrecisionAt5 / len(ratings.columns)})"
   ]
  },
  {
   "cell_type": "code",
   "execution_count": 48,
   "metadata": {},
   "outputs": [
    {
     "data": {
      "text/plain": [
       "{'75': [2242, 2324, 2236, 2255, 619],\n",
       " '1147': [1896, 2221, 2291, 2255, 2100],\n",
       " '690': [2233, 2080, 2291, 2255, 1849]}"
      ]
     },
     "execution_count": 48,
     "metadata": {},
     "output_type": "execute_result"
    }
   ],
   "source": [
    "results = {}\n",
    "for u in randomUsers:\n",
    "    results[u] = [x[0] for x in list(model.getTopNRecommendation(u, 1).values())]\n",
    "results"
   ]
  },
  {
   "cell_type": "markdown",
   "metadata": {},
   "source": [
    "### 4- Recommender switching performance"
   ]
  },
  {
   "cell_type": "markdown",
   "metadata": {},
   "source": [
    "#### We can use CBF for items with less evaluations.\n",
    "\n",
    "We can see in the cumulative histogram that only around 20% of the rated items had 10 or more ratings. We can prioritize the use of a content based recommender or even a non personalised one for the majority of the items which don't have a sufficient amount of ratings in order to make the collaborative filtering algorithms to be stable."
   ]
  },
  {
   "cell_type": "code",
   "execution_count": 57,
   "metadata": {},
   "outputs": [
    {
     "data": {
      "image/png": "[encoded data removed]",
      "text/plain": [
       "<Figure size 1080x216 with 2 Axes>"
      ]
     },
     "metadata": {
      "needs_background": "light"
     },
     "output_type": "display_data"
    }
   ],
   "source": [
    "import matplotlib.pyplot as plt\n",
    "\n",
    "itemRatings = ratings.apply(lambda x: np.sum(~np.isnan(x)), axis=1)\n",
    "itemMaxRatings = itemRatings.max()\n",
    "\n",
    "plt.figure(figsize=(15,3))\n",
    "plt.subplot(121)\n",
    "\n",
    "numRatingItems = []\n",
    "for idx in range(itemMaxRatings + 1):\n",
    "    numRatingItems.append(len(itemRatings[itemRatings == idx]))\n",
    "\n",
    "plt.plot(numRatingItems)\n",
    "plt.xlabel('# of ratings')\n",
    "plt.ylabel('Amount of items')\n",
    "plt.title('Histogram of amount of ratings')\n",
    "\n",
    "plt.subplot(122)\n",
    "cumulativeNumRatingItems = []\n",
    "for idx in range(len(numRatingItems)):\n",
    "    cumulativeNumRatingItems.append(np.sum(numRatingItems[:idx]))\n",
    "    \n",
    "cumulativeNumRatingItems = np.array(cumulativeNumRatingItems)\n",
    "\n",
    "plt.plot(cumulativeNumRatingItems / ratings.shape[0])\n",
    "plt.xlabel('# of ratings')\n",
    "plt.ylabel('Cumulative distribution')\n",
    "plt.title('Cumulative histogram of amount of ratings');"
   ]
  },
  {
   "cell_type": "code",
   "execution_count": null,
   "metadata": {},
   "outputs": [],
   "source": []
  }
 ],
 "metadata": {
  "kernelspec": {
   "display_name": "Python 3",
   "language": "python",
   "name": "python3"
  },
  "language_info": {
   "codemirror_mode": {
    "name": "ipython",
    "version": 3
   },
   "file_extension": ".py",
   "mimetype": "text/x-python",
   "name": "python",
   "nbconvert_exporter": "python",
   "pygments_lexer": "ipython3",
   "version": "3.7.6"
  }
 },
 "nbformat": 4,
 "nbformat_minor": 4
}
