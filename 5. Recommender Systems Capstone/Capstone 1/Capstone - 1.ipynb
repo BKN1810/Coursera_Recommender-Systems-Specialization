{
 "cells": [
  {
   "cell_type": "code",
   "execution_count": 1,
   "metadata": {},
   "outputs": [],
   "source": [
    "import pandas as pd\n",
    "import numpy as np"
   ]
  },
  {
   "cell_type": "markdown",
   "metadata": {},
   "source": [
    "# Read data"
   ]
  },
  {
   "cell_type": "code",
   "execution_count": 2,
   "metadata": {},
   "outputs": [],
   "source": [
    "items = pd.read_excel('office-products.xlsx', sheet_name='Items', index_col=0)\n",
    "ratings = pd.read_excel('office-products.xlsx', sheet_name='Ratings', index_col=0)\n",
    "cbf = pd.read_excel('office-products.xlsx', sheet_name='CBF', index_col=0)\n",
    "item_item = pd.read_excel('office-products.xlsx', sheet_name='Item-Item', index_col=0)\n",
    "mf = pd.read_excel('office-products.xlsx', sheet_name='MF', index_col=0)\n",
    "pers_bias = pd.read_excel('office-products.xlsx', sheet_name='PersBias', index_col=0)\n",
    "user_user = pd.read_excel('office-products.xlsx', sheet_name='User-User', index_col=0)"
   ]
  },
  {
   "cell_type": "code",
   "execution_count": 3,
   "metadata": {},
   "outputs": [
    {
     "name": "stdout",
     "output_type": "stream",
     "text": [
      "items shape : (200, 7)\n",
      "ratings shape : (200, 100)\n",
      "cbf shape : (200, 100)\n",
      "item_item shape : (200, 100)\n",
      "mf shape : (200, 100)\n",
      "pers_bias shape : (200, 100)\n",
      "user_user shape : (200, 100)\n"
     ]
    }
   ],
   "source": [
    "print('items shape : ' + str(items.shape))\n",
    "print('ratings shape : ' + str(ratings.shape))\n",
    "print('cbf shape : ' + str(cbf.shape))\n",
    "print('item_item shape : ' + str(item_item.shape))\n",
    "print('mf shape : ' + str(mf.shape))\n",
    "print('pers_bias shape : ' + str(pers_bias.shape))\n",
    "print('user_user shape : ' + str(user_user.shape))"
   ]
  },
  {
   "cell_type": "markdown",
   "metadata": {},
   "source": [
    "# Summary\n",
    "\n",
    "Ratings df will become observed values / ground truth values\n",
    "Other values from different methods will become out prediction values\n",
    "\n",
    "Evaluation metrics : RMSE, NDCG and Precision@N\n",
    "\n"
   ]
  },
  {
   "cell_type": "code",
   "execution_count": 4,
   "metadata": {},
   "outputs": [],
   "source": [
    "class Model:\n",
    "    \n",
    "    def __init__(self, items, ratings, cbf, item_item, mf, pers_bias, user_user):\n",
    "        \n",
    "        self.items = items\n",
    "        self.ratings = ratings\n",
    "        self.cbf = cbf\n",
    "        self.item_item = item_item\n",
    "        self.mf = mf\n",
    "        self.pers_bias = pers_bias\n",
    "        self.user_user = user_user\n",
    "        \n",
    "        # avg rating for user\n",
    "        self.avgUserRating = ratings.apply(lambda x: np.average(x[~np.isnan(x)]))\n",
    "        \n",
    "        # combine lists for clear code\n",
    "        self.RCList = [self.cbf, self.item_item, self.mf, self.pers_bias,self.user_user]\n",
    "        self.RCListNames = ['cbf', 'item_item', 'mf', 'pers_bias','user_user']\n",
    "        \n",
    "        # Item popularity values\n",
    "        topNItem = 25\n",
    "        itemBoughtPercentage = self.ratings.apply(lambda x: np.sum(~np.isnan(x)), axis=0) / ratings.shape[1]\n",
    "        tmp_sorted = np.argsort(itemBoughtPercentage)[::-1]\n",
    "        self.popularItems = itemBoughtPercentage.iloc[tmp_sorted][:topNItem].index.values.astype(np.int)\n",
    "    \n",
    "    \n",
    "    # Returns all ratings for specific user\n",
    "    def getRatings(self, user_user_id):\n",
    "        filteredRatings = self.ratings[str(user_user_id)]\n",
    "        return filteredRatings[~np.isnan(filteredRatings)]\n",
    "    \n",
    "    # Returns top n ratings for each recommender\n",
    "    def getTopNRecommendation(self, user_user_id, topNRecomm):\n",
    "        topNRecommendation = dict()\n",
    "        \n",
    "        for i, j in zip(self.RCList,self.RCListNames):\n",
    "            itemIdList = i[str(user_user_id)].argsort().sort_values()[:topNRecomm].index.values\n",
    "            topNRecommendation[j] = itemIdList\n",
    "        return topNRecommendation\n",
    "    \n",
    "    # Calculates RMSE error between ratings and RCList predictions, Returns DataFrame\n",
    "    def rmse(self, user_user_id):\n",
    "        userRatings = self.getRatings(str(user_user_id))\n",
    "        rmse = []\n",
    "        \n",
    "        for i in self.RCList:\n",
    "            pred = i.reindex(index = userRatings.index)[str(user_user_id)]\n",
    "            rmse.append(np.sqrt(np.average(np.power((pred - userRatings), 2))))\n",
    "            \n",
    "        rmseDF = pd.DataFrame({'rmse' : rmse}, index = self.RCListNames)\n",
    "        return rmseDF\n",
    "    \n",
    "    \n",
    "    # Normalized Discounted Cumulative Gain for RCList\n",
    "    def NDCG(self, user_user_id, topN = 5, indvRecommendation=None):\n",
    "        \n",
    "        userRatings = self.getRatings(user_user_id)\n",
    "        \n",
    "        if indvRecommendation is None:\n",
    "            topNRecommendation = self.getTopNRecommendation(user_user_id, topN)\n",
    "            resultsIndex = self.RCListNames\n",
    "        else:\n",
    "            topNRecommendation = indvRecommendation\n",
    "            resultsIndex = list(indvRecommendation.keys())\n",
    "\n",
    "        # Converts recommendations into scores\n",
    "        allScores = []\n",
    "        for name, itemList in topNRecommendation.items():\n",
    "            scores = np.empty_like(itemList)\n",
    "            scores[:] = -15                 \n",
    "            ratedUsers = np.isin(itemList, userRatings.index.values)\n",
    "            scores[~ratedUsers] = 0\n",
    "            \n",
    "            for idx, score in enumerate(scores):\n",
    "                if(score != 0):\n",
    "                    if(userRatings[itemList[idx]] < self.avgUserRating[user_user_id] - 1):\n",
    "                        scores[idx] = -1\n",
    "                    elif((userRatings[itemList[idx]] >= self.avgUserRating[user_user_id] - 1) & \n",
    "                         (userRatings[itemList[idx]] < self.avgUserRating[user_user_id] + 0.5)):\n",
    "                        scores[idx] = 1\n",
    "                    else:\n",
    "                        scores[idx] = 2\n",
    "            \n",
    "            allScores.append(scores)                             \n",
    "\n",
    "        # Calculates DCG, ideal DCG and NDCG with scores\n",
    "        allNDCG = {}\n",
    "        \n",
    "        for idx, scores in enumerate(allScores):   \n",
    "            DCG = 0    \n",
    "            \n",
    "            for scoreIdx, score in enumerate(scores):                                  \n",
    "                DCG = DCG + score/np.log2(scoreIdx + 2) \n",
    "                \n",
    "            idealItems = np.sort(scores)[::-1]                        \n",
    "            idealDCG = 0\n",
    "            \n",
    "            for idealItemsIdx, idealScore in enumerate(idealItems):                                                           \n",
    "                idealDCG = idealDCG + idealScore/np.log2(idealItemsIdx + 2) \n",
    "            \n",
    "            if (idealDCG == 0) or (np.abs(idealDCG) < np.abs(DCG)):\n",
    "                NDCG = 0 \n",
    "            else:                                                    \n",
    "                NDCG = DCG / idealDCG\n",
    "                                                         \n",
    "            allNDCG[resultsIndex[idx]] = NDCG\n",
    "            \n",
    "            result = pd.DataFrame(allNDCG, index=range(1)).transpose()\n",
    "            result.columns = ['NDCG']\n",
    "            \n",
    "        return result\n",
    "\n",
    "    \n",
    "    # Calculates column stats(std and mean for 'Price' and 'Availability')\n",
    "    def calcStats(self, user_user_id, column, topN=5, indvRecommendation = None):\n",
    "        \n",
    "        if(indvRecommendation is None):\n",
    "            topNRecommendation = self.getTopNRecommendation(user_user_id, topN)\n",
    "        else:\n",
    "            topNRecommendation = indvRecommendation\n",
    "\n",
    "        \n",
    "        stats = pd.DataFrame()\n",
    "        \n",
    "        for k, _ in topNRecommendation.items():\n",
    "            filteredData = self.items.loc[topNRecommendation[k]][[column]].agg(['mean','std']).transpose()\n",
    "            filteredData.index = [k]\n",
    "            stats = stats.append(filteredData)\n",
    "        \n",
    "        return stats\n",
    "    \n",
    "    \n",
    "    # Returns the ratio of the top n items are among the most popular items.\n",
    "    def popularity(self, user_user_id, topN=5, indvRecommendation = None):\n",
    "        \n",
    "        if(indvRecommendation is None):\n",
    "            topNRecommendation = self.getTopNRecommendation(user_user_id, topN)\n",
    "            resultsIndex = self.RCListNames\n",
    "        else:\n",
    "            topNRecommendation = indvRecommendation\n",
    "            resultsIndex = list(indvRecommendation.keys())\n",
    "\n",
    "        results = []\n",
    "        \n",
    "        for recommender, recommendations in topNRecommendation.items():\n",
    "            popularity = np.sum(np.isin(recommendations,self.popularItems))\n",
    "            results.append(popularity)\n",
    "        \n",
    "        return pd.DataFrame({'popularity' : results},index = resultsIndex)\n",
    "    \n",
    "    \n",
    "    # Calculates precision@N\n",
    "    def precision_at_n(self, user_user_id, topN=10, indvRecommendation = None):\n",
    "        \n",
    "        if(indvRecommendation is None):\n",
    "            topNRecommendation = self.getTopNRecommendation(user_user_id, topN)\n",
    "            resultsIndex = self.RCListNames\n",
    "        else:\n",
    "            topNRecommendation = indvRecommendation\n",
    "            resultsIndex = list(indvRecommendation.keys())\n",
    "        \n",
    "        observed_ratings = self.getRatings(user_user_id).index.values\n",
    "        precisions = []\n",
    "        \n",
    "        for recommender, recommendations in topNRecommendation.items():\n",
    "            precisions.append(np.sum(np.isin(recommendations, observed_ratings)) / topN)\n",
    "        \n",
    "        return pd.DataFrame({'precision_at_' + str(topN): precisions}, index = resultsIndex)"
   ]
  },
  {
   "cell_type": "markdown",
   "metadata": {},
   "source": [
    "# Analysis for user 252"
   ]
  },
  {
   "cell_type": "code",
   "execution_count": 5,
   "metadata": {},
   "outputs": [],
   "source": [
    "# init model\n",
    "userId = '252'\n",
    "model = Model(items, ratings, cbf, item_item, mf, pers_bias, user_user)"
   ]
  },
  {
   "cell_type": "markdown",
   "metadata": {},
   "source": [
    "### Best method is User-User Collaborative Filtering according to RMSE values "
   ]
  },
  {
   "cell_type": "code",
   "execution_count": 6,
   "metadata": {
    "scrolled": false
   },
   "outputs": [
    {
     "data": {
      "text/html": [
       "<div>\n",
       "<style scoped>\n",
       "    .dataframe tbody tr th:only-of-type {\n",
       "        vertical-align: middle;\n",
       "    }\n",
       "\n",
       "    .dataframe tbody tr th {\n",
       "        vertical-align: top;\n",
       "    }\n",
       "\n",
       "    .dataframe thead th {\n",
       "        text-align: right;\n",
       "    }\n",
       "</style>\n",
       "<table border=\"1\" class=\"dataframe\">\n",
       "  <thead>\n",
       "    <tr style=\"text-align: right;\">\n",
       "      <th></th>\n",
       "      <th>rmse</th>\n",
       "    </tr>\n",
       "  </thead>\n",
       "  <tbody>\n",
       "    <tr>\n",
       "      <th>cbf</th>\n",
       "      <td>0.756997</td>\n",
       "    </tr>\n",
       "    <tr>\n",
       "      <th>item_item</th>\n",
       "      <td>0.604561</td>\n",
       "    </tr>\n",
       "    <tr>\n",
       "      <th>mf</th>\n",
       "      <td>0.913888</td>\n",
       "    </tr>\n",
       "    <tr>\n",
       "      <th>pers_bias</th>\n",
       "      <td>0.925349</td>\n",
       "    </tr>\n",
       "    <tr>\n",
       "      <th>user_user</th>\n",
       "      <td>0.602597</td>\n",
       "    </tr>\n",
       "  </tbody>\n",
       "</table>\n",
       "</div>"
      ],
      "text/plain": [
       "               rmse\n",
       "cbf        0.756997\n",
       "item_item  0.604561\n",
       "mf         0.913888\n",
       "pers_bias  0.925349\n",
       "user_user  0.602597"
      ]
     },
     "execution_count": 6,
     "metadata": {},
     "output_type": "execute_result"
    }
   ],
   "source": [
    "model.rmse(userId)"
   ]
  },
  {
   "cell_type": "markdown",
   "metadata": {},
   "source": [
    "### NDCG values "
   ]
  },
  {
   "cell_type": "code",
   "execution_count": 7,
   "metadata": {},
   "outputs": [
    {
     "data": {
      "text/html": [
       "<div>\n",
       "<style scoped>\n",
       "    .dataframe tbody tr th:only-of-type {\n",
       "        vertical-align: middle;\n",
       "    }\n",
       "\n",
       "    .dataframe tbody tr th {\n",
       "        vertical-align: top;\n",
       "    }\n",
       "\n",
       "    .dataframe thead th {\n",
       "        text-align: right;\n",
       "    }\n",
       "</style>\n",
       "<table border=\"1\" class=\"dataframe\">\n",
       "  <thead>\n",
       "    <tr style=\"text-align: right;\">\n",
       "      <th></th>\n",
       "      <th>NDCG</th>\n",
       "    </tr>\n",
       "  </thead>\n",
       "  <tbody>\n",
       "    <tr>\n",
       "      <th>cbf</th>\n",
       "      <td>0.00000</td>\n",
       "    </tr>\n",
       "    <tr>\n",
       "      <th>item_item</th>\n",
       "      <td>1.00000</td>\n",
       "    </tr>\n",
       "    <tr>\n",
       "      <th>mf</th>\n",
       "      <td>0.50000</td>\n",
       "    </tr>\n",
       "    <tr>\n",
       "      <th>pers_bias</th>\n",
       "      <td>0.50000</td>\n",
       "    </tr>\n",
       "    <tr>\n",
       "      <th>user_user</th>\n",
       "      <td>0.63093</td>\n",
       "    </tr>\n",
       "  </tbody>\n",
       "</table>\n",
       "</div>"
      ],
      "text/plain": [
       "              NDCG\n",
       "cbf        0.00000\n",
       "item_item  1.00000\n",
       "mf         0.50000\n",
       "pers_bias  0.50000\n",
       "user_user  0.63093"
      ]
     },
     "execution_count": 7,
     "metadata": {},
     "output_type": "execute_result"
    }
   ],
   "source": [
    "model.NDCG(userId)"
   ]
  },
  {
   "cell_type": "markdown",
   "metadata": {},
   "source": [
    "### Stats for Price"
   ]
  },
  {
   "cell_type": "code",
   "execution_count": 8,
   "metadata": {},
   "outputs": [
    {
     "data": {
      "text/html": [
       "<div>\n",
       "<style scoped>\n",
       "    .dataframe tbody tr th:only-of-type {\n",
       "        vertical-align: middle;\n",
       "    }\n",
       "\n",
       "    .dataframe tbody tr th {\n",
       "        vertical-align: top;\n",
       "    }\n",
       "\n",
       "    .dataframe thead th {\n",
       "        text-align: right;\n",
       "    }\n",
       "</style>\n",
       "<table border=\"1\" class=\"dataframe\">\n",
       "  <thead>\n",
       "    <tr style=\"text-align: right;\">\n",
       "      <th></th>\n",
       "      <th>mean</th>\n",
       "      <th>std</th>\n",
       "    </tr>\n",
       "  </thead>\n",
       "  <tbody>\n",
       "    <tr>\n",
       "      <th>cbf</th>\n",
       "      <td>24.656</td>\n",
       "      <td>38.458336</td>\n",
       "    </tr>\n",
       "    <tr>\n",
       "      <th>item_item</th>\n",
       "      <td>10.186</td>\n",
       "      <td>4.635135</td>\n",
       "    </tr>\n",
       "    <tr>\n",
       "      <th>mf</th>\n",
       "      <td>12.782</td>\n",
       "      <td>4.439287</td>\n",
       "    </tr>\n",
       "    <tr>\n",
       "      <th>pers_bias</th>\n",
       "      <td>9.890</td>\n",
       "      <td>5.121875</td>\n",
       "    </tr>\n",
       "    <tr>\n",
       "      <th>user_user</th>\n",
       "      <td>54.122</td>\n",
       "      <td>87.438822</td>\n",
       "    </tr>\n",
       "  </tbody>\n",
       "</table>\n",
       "</div>"
      ],
      "text/plain": [
       "             mean        std\n",
       "cbf        24.656  38.458336\n",
       "item_item  10.186   4.635135\n",
       "mf         12.782   4.439287\n",
       "pers_bias   9.890   5.121875\n",
       "user_user  54.122  87.438822"
      ]
     },
     "execution_count": 8,
     "metadata": {},
     "output_type": "execute_result"
    }
   ],
   "source": [
    "model.calcStats(userId, 'Price')"
   ]
  },
  {
   "cell_type": "markdown",
   "metadata": {},
   "source": [
    "### Stats for Availability"
   ]
  },
  {
   "cell_type": "code",
   "execution_count": 9,
   "metadata": {},
   "outputs": [
    {
     "data": {
      "text/html": [
       "<div>\n",
       "<style scoped>\n",
       "    .dataframe tbody tr th:only-of-type {\n",
       "        vertical-align: middle;\n",
       "    }\n",
       "\n",
       "    .dataframe tbody tr th {\n",
       "        vertical-align: top;\n",
       "    }\n",
       "\n",
       "    .dataframe thead th {\n",
       "        text-align: right;\n",
       "    }\n",
       "</style>\n",
       "<table border=\"1\" class=\"dataframe\">\n",
       "  <thead>\n",
       "    <tr style=\"text-align: right;\">\n",
       "      <th></th>\n",
       "      <th>mean</th>\n",
       "      <th>std</th>\n",
       "    </tr>\n",
       "  </thead>\n",
       "  <tbody>\n",
       "    <tr>\n",
       "      <th>cbf</th>\n",
       "      <td>0.513279</td>\n",
       "      <td>0.241932</td>\n",
       "    </tr>\n",
       "    <tr>\n",
       "      <th>item_item</th>\n",
       "      <td>0.648397</td>\n",
       "      <td>0.248696</td>\n",
       "    </tr>\n",
       "    <tr>\n",
       "      <th>mf</th>\n",
       "      <td>0.559237</td>\n",
       "      <td>0.238622</td>\n",
       "    </tr>\n",
       "    <tr>\n",
       "      <th>pers_bias</th>\n",
       "      <td>0.588596</td>\n",
       "      <td>0.172630</td>\n",
       "    </tr>\n",
       "    <tr>\n",
       "      <th>user_user</th>\n",
       "      <td>0.553433</td>\n",
       "      <td>0.128046</td>\n",
       "    </tr>\n",
       "  </tbody>\n",
       "</table>\n",
       "</div>"
      ],
      "text/plain": [
       "               mean       std\n",
       "cbf        0.513279  0.241932\n",
       "item_item  0.648397  0.248696\n",
       "mf         0.559237  0.238622\n",
       "pers_bias  0.588596  0.172630\n",
       "user_user  0.553433  0.128046"
      ]
     },
     "execution_count": 9,
     "metadata": {},
     "output_type": "execute_result"
    }
   ],
   "source": [
    "model.calcStats(userId, 'Availability')"
   ]
  },
  {
   "cell_type": "markdown",
   "metadata": {},
   "source": [
    "### Popularity values"
   ]
  },
  {
   "cell_type": "code",
   "execution_count": 10,
   "metadata": {},
   "outputs": [
    {
     "data": {
      "text/html": [
       "<div>\n",
       "<style scoped>\n",
       "    .dataframe tbody tr th:only-of-type {\n",
       "        vertical-align: middle;\n",
       "    }\n",
       "\n",
       "    .dataframe tbody tr th {\n",
       "        vertical-align: top;\n",
       "    }\n",
       "\n",
       "    .dataframe thead th {\n",
       "        text-align: right;\n",
       "    }\n",
       "</style>\n",
       "<table border=\"1\" class=\"dataframe\">\n",
       "  <thead>\n",
       "    <tr style=\"text-align: right;\">\n",
       "      <th></th>\n",
       "      <th>popularity</th>\n",
       "    </tr>\n",
       "  </thead>\n",
       "  <tbody>\n",
       "    <tr>\n",
       "      <th>cbf</th>\n",
       "      <td>0</td>\n",
       "    </tr>\n",
       "    <tr>\n",
       "      <th>item_item</th>\n",
       "      <td>0</td>\n",
       "    </tr>\n",
       "    <tr>\n",
       "      <th>mf</th>\n",
       "      <td>0</td>\n",
       "    </tr>\n",
       "    <tr>\n",
       "      <th>pers_bias</th>\n",
       "      <td>0</td>\n",
       "    </tr>\n",
       "    <tr>\n",
       "      <th>user_user</th>\n",
       "      <td>0</td>\n",
       "    </tr>\n",
       "  </tbody>\n",
       "</table>\n",
       "</div>"
      ],
      "text/plain": [
       "           popularity\n",
       "cbf                 0\n",
       "item_item           0\n",
       "mf                  0\n",
       "pers_bias           0\n",
       "user_user           0"
      ]
     },
     "execution_count": 10,
     "metadata": {},
     "output_type": "execute_result"
    }
   ],
   "source": [
    "model.popularity(userId)"
   ]
  },
  {
   "cell_type": "markdown",
   "metadata": {},
   "source": [
    "### Best method is Item-Item Collaborative Filtering according to Precision@N values"
   ]
  },
  {
   "cell_type": "code",
   "execution_count": 11,
   "metadata": {
    "scrolled": true
   },
   "outputs": [
    {
     "data": {
      "text/html": [
       "<div>\n",
       "<style scoped>\n",
       "    .dataframe tbody tr th:only-of-type {\n",
       "        vertical-align: middle;\n",
       "    }\n",
       "\n",
       "    .dataframe tbody tr th {\n",
       "        vertical-align: top;\n",
       "    }\n",
       "\n",
       "    .dataframe thead th {\n",
       "        text-align: right;\n",
       "    }\n",
       "</style>\n",
       "<table border=\"1\" class=\"dataframe\">\n",
       "  <thead>\n",
       "    <tr style=\"text-align: right;\">\n",
       "      <th></th>\n",
       "      <th>precision_at_10</th>\n",
       "    </tr>\n",
       "  </thead>\n",
       "  <tbody>\n",
       "    <tr>\n",
       "      <th>cbf</th>\n",
       "      <td>0.1</td>\n",
       "    </tr>\n",
       "    <tr>\n",
       "      <th>item_item</th>\n",
       "      <td>0.3</td>\n",
       "    </tr>\n",
       "    <tr>\n",
       "      <th>mf</th>\n",
       "      <td>0.2</td>\n",
       "    </tr>\n",
       "    <tr>\n",
       "      <th>pers_bias</th>\n",
       "      <td>0.1</td>\n",
       "    </tr>\n",
       "    <tr>\n",
       "      <th>user_user</th>\n",
       "      <td>0.1</td>\n",
       "    </tr>\n",
       "  </tbody>\n",
       "</table>\n",
       "</div>"
      ],
      "text/plain": [
       "           precision_at_10\n",
       "cbf                    0.1\n",
       "item_item              0.3\n",
       "mf                     0.2\n",
       "pers_bias              0.1\n",
       "user_user              0.1"
      ]
     },
     "execution_count": 11,
     "metadata": {},
     "output_type": "execute_result"
    }
   ],
   "source": [
    "model.precision_at_n(userId)"
   ]
  },
  {
   "cell_type": "markdown",
   "metadata": {},
   "source": [
    "### Evaluation Metrics for all Users"
   ]
  },
  {
   "cell_type": "code",
   "execution_count": 12,
   "metadata": {},
   "outputs": [],
   "source": [
    "countRMSE = np.array([0] * 5)\n",
    "countNDCG = np.array([0] * 5)\n",
    "countPriceStats = np.ndarray([5,2])\n",
    "countAvailabilityStats = np.ndarray([5,2])\n",
    "countPopularity = np.array([0] * 5)\n",
    "countPrecisionAt10 = np.array([0] * 5)\n",
    "\n",
    "for idx in ratings.columns:\n",
    "    countRMSE = countRMSE + model.rmse(idx).fillna(0)['rmse']\n",
    "    \n",
    "    countNDCG = countNDCG + model.NDCG(idx)['NDCG']\n",
    "    \n",
    "    countPriceStats = countPriceStats + model.calcStats(idx, 'Price')[['mean','std']]\n",
    "    \n",
    "    countAvailabilityStats = countAvailabilityStats + model.calcStats(idx, 'Availability')[['mean','std']]\n",
    "    \n",
    "    countPopularity = countPopularity + model.popularity(idx)['popularity'] \n",
    "    \n",
    "    countPrecisionAt10 = countPrecisionAt10 + model.precision_at_n(idx)['precision_at_10'] "
   ]
  },
  {
   "cell_type": "code",
   "execution_count": 13,
   "metadata": {},
   "outputs": [
    {
     "data": {
      "text/html": [
       "<div>\n",
       "<style scoped>\n",
       "    .dataframe tbody tr th:only-of-type {\n",
       "        vertical-align: middle;\n",
       "    }\n",
       "\n",
       "    .dataframe tbody tr th {\n",
       "        vertical-align: top;\n",
       "    }\n",
       "\n",
       "    .dataframe thead th {\n",
       "        text-align: right;\n",
       "    }\n",
       "</style>\n",
       "<table border=\"1\" class=\"dataframe\">\n",
       "  <thead>\n",
       "    <tr style=\"text-align: right;\">\n",
       "      <th></th>\n",
       "      <th>RMSE</th>\n",
       "    </tr>\n",
       "  </thead>\n",
       "  <tbody>\n",
       "    <tr>\n",
       "      <th>cbf</th>\n",
       "      <td>0.572387</td>\n",
       "    </tr>\n",
       "    <tr>\n",
       "      <th>item_item</th>\n",
       "      <td>0.574672</td>\n",
       "    </tr>\n",
       "    <tr>\n",
       "      <th>mf</th>\n",
       "      <td>0.659029</td>\n",
       "    </tr>\n",
       "    <tr>\n",
       "      <th>pers_bias</th>\n",
       "      <td>0.666273</td>\n",
       "    </tr>\n",
       "    <tr>\n",
       "      <th>user_user</th>\n",
       "      <td>0.539678</td>\n",
       "    </tr>\n",
       "  </tbody>\n",
       "</table>\n",
       "</div>"
      ],
      "text/plain": [
       "               RMSE\n",
       "cbf        0.572387\n",
       "item_item  0.574672\n",
       "mf         0.659029\n",
       "pers_bias  0.666273\n",
       "user_user  0.539678"
      ]
     },
     "execution_count": 13,
     "metadata": {},
     "output_type": "execute_result"
    }
   ],
   "source": [
    "pd.DataFrame({'RMSE' : countRMSE / len(ratings.columns)},index = model.RCListNames)"
   ]
  },
  {
   "cell_type": "code",
   "execution_count": 14,
   "metadata": {},
   "outputs": [
    {
     "data": {
      "text/html": [
       "<div>\n",
       "<style scoped>\n",
       "    .dataframe tbody tr th:only-of-type {\n",
       "        vertical-align: middle;\n",
       "    }\n",
       "\n",
       "    .dataframe tbody tr th {\n",
       "        vertical-align: top;\n",
       "    }\n",
       "\n",
       "    .dataframe thead th {\n",
       "        text-align: right;\n",
       "    }\n",
       "</style>\n",
       "<table border=\"1\" class=\"dataframe\">\n",
       "  <thead>\n",
       "    <tr style=\"text-align: right;\">\n",
       "      <th></th>\n",
       "      <th>NDCG</th>\n",
       "    </tr>\n",
       "  </thead>\n",
       "  <tbody>\n",
       "    <tr>\n",
       "      <th>cbf</th>\n",
       "      <td>0.136505</td>\n",
       "    </tr>\n",
       "    <tr>\n",
       "      <th>item_item</th>\n",
       "      <td>0.146798</td>\n",
       "    </tr>\n",
       "    <tr>\n",
       "      <th>mf</th>\n",
       "      <td>0.155888</td>\n",
       "    </tr>\n",
       "    <tr>\n",
       "      <th>pers_bias</th>\n",
       "      <td>0.125180</td>\n",
       "    </tr>\n",
       "    <tr>\n",
       "      <th>user_user</th>\n",
       "      <td>0.169080</td>\n",
       "    </tr>\n",
       "  </tbody>\n",
       "</table>\n",
       "</div>"
      ],
      "text/plain": [
       "               NDCG\n",
       "cbf        0.136505\n",
       "item_item  0.146798\n",
       "mf         0.155888\n",
       "pers_bias  0.125180\n",
       "user_user  0.169080"
      ]
     },
     "execution_count": 14,
     "metadata": {},
     "output_type": "execute_result"
    }
   ],
   "source": [
    "pd.DataFrame({'NDCG' : countNDCG / len(ratings.columns)},index = model.RCListNames)"
   ]
  },
  {
   "cell_type": "code",
   "execution_count": 15,
   "metadata": {},
   "outputs": [
    {
     "data": {
      "text/html": [
       "<div>\n",
       "<style scoped>\n",
       "    .dataframe tbody tr th:only-of-type {\n",
       "        vertical-align: middle;\n",
       "    }\n",
       "\n",
       "    .dataframe tbody tr th {\n",
       "        vertical-align: top;\n",
       "    }\n",
       "\n",
       "    .dataframe thead th {\n",
       "        text-align: right;\n",
       "    }\n",
       "</style>\n",
       "<table border=\"1\" class=\"dataframe\">\n",
       "  <thead>\n",
       "    <tr style=\"text-align: right;\">\n",
       "      <th></th>\n",
       "      <th>mean</th>\n",
       "      <th>std</th>\n",
       "    </tr>\n",
       "  </thead>\n",
       "  <tbody>\n",
       "    <tr>\n",
       "      <th>cbf</th>\n",
       "      <td>19.241238</td>\n",
       "      <td>19.178071</td>\n",
       "    </tr>\n",
       "    <tr>\n",
       "      <th>item_item</th>\n",
       "      <td>25.883743</td>\n",
       "      <td>32.173458</td>\n",
       "    </tr>\n",
       "    <tr>\n",
       "      <th>mf</th>\n",
       "      <td>21.121133</td>\n",
       "      <td>26.189485</td>\n",
       "    </tr>\n",
       "    <tr>\n",
       "      <th>pers_bias</th>\n",
       "      <td>9.891000</td>\n",
       "      <td>5.121875</td>\n",
       "    </tr>\n",
       "    <tr>\n",
       "      <th>user_user</th>\n",
       "      <td>21.911497</td>\n",
       "      <td>25.222586</td>\n",
       "    </tr>\n",
       "  </tbody>\n",
       "</table>\n",
       "</div>"
      ],
      "text/plain": [
       "                mean        std\n",
       "cbf        19.241238  19.178071\n",
       "item_item  25.883743  32.173458\n",
       "mf         21.121133  26.189485\n",
       "pers_bias   9.891000   5.121875\n",
       "user_user  21.911497  25.222586"
      ]
     },
     "execution_count": 15,
     "metadata": {},
     "output_type": "execute_result"
    }
   ],
   "source": [
    "countPriceStats / len(ratings.columns)"
   ]
  },
  {
   "cell_type": "code",
   "execution_count": 16,
   "metadata": {},
   "outputs": [
    {
     "data": {
      "text/html": [
       "<div>\n",
       "<style scoped>\n",
       "    .dataframe tbody tr th:only-of-type {\n",
       "        vertical-align: middle;\n",
       "    }\n",
       "\n",
       "    .dataframe tbody tr th {\n",
       "        vertical-align: top;\n",
       "    }\n",
       "\n",
       "    .dataframe thead th {\n",
       "        text-align: right;\n",
       "    }\n",
       "</style>\n",
       "<table border=\"1\" class=\"dataframe\">\n",
       "  <thead>\n",
       "    <tr style=\"text-align: right;\">\n",
       "      <th></th>\n",
       "      <th>mean</th>\n",
       "      <th>std</th>\n",
       "    </tr>\n",
       "  </thead>\n",
       "  <tbody>\n",
       "    <tr>\n",
       "      <th>cbf</th>\n",
       "      <td>0.573888</td>\n",
       "      <td>0.175789</td>\n",
       "    </tr>\n",
       "    <tr>\n",
       "      <th>item_item</th>\n",
       "      <td>0.605725</td>\n",
       "      <td>0.173781</td>\n",
       "    </tr>\n",
       "    <tr>\n",
       "      <th>mf</th>\n",
       "      <td>0.561153</td>\n",
       "      <td>0.152596</td>\n",
       "    </tr>\n",
       "    <tr>\n",
       "      <th>pers_bias</th>\n",
       "      <td>0.588596</td>\n",
       "      <td>0.172630</td>\n",
       "    </tr>\n",
       "    <tr>\n",
       "      <th>user_user</th>\n",
       "      <td>0.632751</td>\n",
       "      <td>0.180219</td>\n",
       "    </tr>\n",
       "  </tbody>\n",
       "</table>\n",
       "</div>"
      ],
      "text/plain": [
       "               mean       std\n",
       "cbf        0.573888  0.175789\n",
       "item_item  0.605725  0.173781\n",
       "mf         0.561153  0.152596\n",
       "pers_bias  0.588596  0.172630\n",
       "user_user  0.632751  0.180219"
      ]
     },
     "execution_count": 16,
     "metadata": {},
     "output_type": "execute_result"
    }
   ],
   "source": [
    "countAvailabilityStats / len(ratings.columns)"
   ]
  },
  {
   "cell_type": "code",
   "execution_count": 17,
   "metadata": {},
   "outputs": [
    {
     "data": {
      "text/html": [
       "<div>\n",
       "<style scoped>\n",
       "    .dataframe tbody tr th:only-of-type {\n",
       "        vertical-align: middle;\n",
       "    }\n",
       "\n",
       "    .dataframe tbody tr th {\n",
       "        vertical-align: top;\n",
       "    }\n",
       "\n",
       "    .dataframe thead th {\n",
       "        text-align: right;\n",
       "    }\n",
       "</style>\n",
       "<table border=\"1\" class=\"dataframe\">\n",
       "  <thead>\n",
       "    <tr style=\"text-align: right;\">\n",
       "      <th></th>\n",
       "      <th>Popularity</th>\n",
       "    </tr>\n",
       "  </thead>\n",
       "  <tbody>\n",
       "    <tr>\n",
       "      <th>cbf</th>\n",
       "      <td>0.00</td>\n",
       "    </tr>\n",
       "    <tr>\n",
       "      <th>item_item</th>\n",
       "      <td>0.00</td>\n",
       "    </tr>\n",
       "    <tr>\n",
       "      <th>mf</th>\n",
       "      <td>0.00</td>\n",
       "    </tr>\n",
       "    <tr>\n",
       "      <th>pers_bias</th>\n",
       "      <td>0.00</td>\n",
       "    </tr>\n",
       "    <tr>\n",
       "      <th>user_user</th>\n",
       "      <td>0.01</td>\n",
       "    </tr>\n",
       "  </tbody>\n",
       "</table>\n",
       "</div>"
      ],
      "text/plain": [
       "           Popularity\n",
       "cbf              0.00\n",
       "item_item        0.00\n",
       "mf               0.00\n",
       "pers_bias        0.00\n",
       "user_user        0.01"
      ]
     },
     "execution_count": 17,
     "metadata": {},
     "output_type": "execute_result"
    }
   ],
   "source": [
    "pd.DataFrame({'Popularity' : countPopularity / len(ratings.columns)},index = model.RCListNames)"
   ]
  },
  {
   "cell_type": "code",
   "execution_count": 18,
   "metadata": {},
   "outputs": [
    {
     "data": {
      "text/html": [
       "<div>\n",
       "<style scoped>\n",
       "    .dataframe tbody tr th:only-of-type {\n",
       "        vertical-align: middle;\n",
       "    }\n",
       "\n",
       "    .dataframe tbody tr th {\n",
       "        vertical-align: top;\n",
       "    }\n",
       "\n",
       "    .dataframe thead th {\n",
       "        text-align: right;\n",
       "    }\n",
       "</style>\n",
       "<table border=\"1\" class=\"dataframe\">\n",
       "  <thead>\n",
       "    <tr style=\"text-align: right;\">\n",
       "      <th></th>\n",
       "      <th>Precision@10</th>\n",
       "    </tr>\n",
       "  </thead>\n",
       "  <tbody>\n",
       "    <tr>\n",
       "      <th>cbf</th>\n",
       "      <td>0.061</td>\n",
       "    </tr>\n",
       "    <tr>\n",
       "      <th>item_item</th>\n",
       "      <td>0.073</td>\n",
       "    </tr>\n",
       "    <tr>\n",
       "      <th>mf</th>\n",
       "      <td>0.082</td>\n",
       "    </tr>\n",
       "    <tr>\n",
       "      <th>pers_bias</th>\n",
       "      <td>0.075</td>\n",
       "    </tr>\n",
       "    <tr>\n",
       "      <th>user_user</th>\n",
       "      <td>0.068</td>\n",
       "    </tr>\n",
       "  </tbody>\n",
       "</table>\n",
       "</div>"
      ],
      "text/plain": [
       "           Precision@10\n",
       "cbf               0.061\n",
       "item_item         0.073\n",
       "mf                0.082\n",
       "pers_bias         0.075\n",
       "user_user         0.068"
      ]
     },
     "execution_count": 18,
     "metadata": {},
     "output_type": "execute_result"
    }
   ],
   "source": [
    "pd.DataFrame({'Precision@10' : countPrecisionAt10 / len(ratings.columns)},index = model.RCListNames)"
   ]
  },
  {
   "cell_type": "markdown",
   "metadata": {},
   "source": [
    "# Results\n",
    "\n",
    "RMSE: pers_bias and mf get the best result.\n",
    "\n",
    "NDCG: user-user gets the best result.\n",
    "\n",
    "Prices stats: item_item algorithm is the most diverse, provides products varies almost 32 dollars from the mean of item price list. MF and user_user are 26 and 25 respectively. An interesting issue is the pers_bias algorithm, it recommends low mean items with low std.\n",
    "\n",
    "Availabity stats: user_user recommends items not so present in the local stores together with items present in local stores.\n",
    "\n",
    "Popularity: None of algorithms actually managed to obtain good scores. Maybe, we must change our topN(=10) parameter.\n",
    "\n",
    "Precision@10: MF gets the result. Must be tried with different N values.\n",
    "\n",
    "Final thoughts\n",
    "MF gets the best results in terms of RMSE and Precision@N. For other metrics user-user offers good performance. Hybrid solution with MF and user-user may be gives model. For cold-start and sparsity problems, CBF is always for an another option."
   ]
  },
  {
   "cell_type": "code",
   "execution_count": null,
   "metadata": {},
   "outputs": [],
   "source": []
  }
 ],
 "metadata": {
  "kernelspec": {
   "display_name": "Python 3",
   "language": "python",
   "name": "python3"
  },
  "language_info": {
   "codemirror_mode": {
    "name": "ipython",
    "version": 3
   },
   "file_extension": ".py",
   "mimetype": "text/x-python",
   "name": "python",
   "nbconvert_exporter": "python",
   "pygments_lexer": "ipython3",
   "version": "3.7.6"
  }
 },
 "nbformat": 4,
 "nbformat_minor": 4
}
