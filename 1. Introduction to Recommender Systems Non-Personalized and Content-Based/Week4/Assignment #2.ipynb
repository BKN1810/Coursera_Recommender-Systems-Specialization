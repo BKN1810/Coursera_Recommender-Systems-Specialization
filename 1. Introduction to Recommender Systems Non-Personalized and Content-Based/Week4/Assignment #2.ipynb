{
 "cells": [
  {
   "cell_type": "code",
   "execution_count": 1,
   "metadata": {
    "collapsed": true
   },
   "outputs": [],
   "source": [
    "import pandas as pd\n",
    "import numpy as np"
   ]
  },
  {
   "cell_type": "code",
   "execution_count": 2,
   "metadata": {},
   "outputs": [],
   "source": [
    "data = pd.read_excel('Assignment 2.xls',)"
   ]
  },
  {
   "cell_type": "code",
   "execution_count": 3,
   "metadata": {
    "collapsed": true
   },
   "outputs": [],
   "source": [
    "feature_name = ['baseball', 'economics', 'politics', 'Europe', 'Asia', 'soccer', 'war',\n",
    "       'security', 'shopping', 'family',]"
   ]
  },
  {
   "cell_type": "markdown",
   "metadata": {},
   "source": [
    "# Part 1. Build and use a very basic profile"
   ]
  },
  {
   "cell_type": "code",
   "execution_count": 4,
   "metadata": {},
   "outputs": [],
   "source": [
    "rating = data.iloc[:-7,].drop(['Unnamed: 10','Unnamed: 12','Unnamed: 15'],axis=1)\n",
    "rating.loc[:,['User 1','User 2']].fillna(0,inplace=True)"
   ]
  },
  {
   "cell_type": "code",
   "execution_count": 5,
   "metadata": {},
   "outputs": [],
   "source": [
    "user_profiles  = data.iloc[-2:,:-8]"
   ]
  },
  {
   "cell_type": "code",
   "execution_count": 6,
   "metadata": {
    "collapsed": true
   },
   "outputs": [],
   "source": [
    "for feature in feature_name:\n",
    "    user_profiles.loc['User1',feature] = (rating[feature] * rating['User 1']).sum()\n",
    "    user_profiles.loc['User2',feature] = (rating[feature] * rating['User 2']).sum()"
   ]
  },
  {
   "cell_type": "code",
   "execution_count": 7,
   "metadata": {},
   "outputs": [],
   "source": [
    "rating['Pred1'] = np.dot(rating.loc[:,feature_name],user_profiles.loc['User1'])\n",
    "rating['Pred2'] = np.dot(rating.loc[:,feature_name],user_profiles.loc['User2'])"
   ]
  },
  {
   "cell_type": "code",
   "execution_count": 8,
   "metadata": {},
   "outputs": [
    {
     "data": {
      "text/html": [
       "<div>\n",
       "<table border=\"1\" class=\"dataframe\">\n",
       "  <thead>\n",
       "    <tr style=\"text-align: right;\">\n",
       "      <th></th>\n",
       "      <th>Pred1</th>\n",
       "      <th>Pred2</th>\n",
       "    </tr>\n",
       "  </thead>\n",
       "  <tbody>\n",
       "    <tr>\n",
       "      <th>doc16</th>\n",
       "      <td>6.0</td>\n",
       "      <td>-4.0</td>\n",
       "    </tr>\n",
       "    <tr>\n",
       "      <th>doc1</th>\n",
       "      <td>4.0</td>\n",
       "      <td>-4.0</td>\n",
       "    </tr>\n",
       "    <tr>\n",
       "      <th>doc12</th>\n",
       "      <td>4.0</td>\n",
       "      <td>-4.0</td>\n",
       "    </tr>\n",
       "    <tr>\n",
       "      <th>doc9</th>\n",
       "      <td>3.0</td>\n",
       "      <td>-2.0</td>\n",
       "    </tr>\n",
       "    <tr>\n",
       "      <th>doc6</th>\n",
       "      <td>3.0</td>\n",
       "      <td>1.0</td>\n",
       "    </tr>\n",
       "    <tr>\n",
       "      <th>doc3</th>\n",
       "      <td>2.0</td>\n",
       "      <td>0.0</td>\n",
       "    </tr>\n",
       "    <tr>\n",
       "      <th>doc18</th>\n",
       "      <td>1.0</td>\n",
       "      <td>3.0</td>\n",
       "    </tr>\n",
       "    <tr>\n",
       "      <th>doc15</th>\n",
       "      <td>0.0</td>\n",
       "      <td>4.0</td>\n",
       "    </tr>\n",
       "    <tr>\n",
       "      <th>doc11</th>\n",
       "      <td>0.0</td>\n",
       "      <td>1.0</td>\n",
       "    </tr>\n",
       "    <tr>\n",
       "      <th>doc7</th>\n",
       "      <td>-1.0</td>\n",
       "      <td>2.0</td>\n",
       "    </tr>\n",
       "    <tr>\n",
       "      <th>doc5</th>\n",
       "      <td>-1.0</td>\n",
       "      <td>1.0</td>\n",
       "    </tr>\n",
       "    <tr>\n",
       "      <th>doc20</th>\n",
       "      <td>-1.0</td>\n",
       "      <td>5.0</td>\n",
       "    </tr>\n",
       "    <tr>\n",
       "      <th>doc8</th>\n",
       "      <td>-2.0</td>\n",
       "      <td>4.0</td>\n",
       "    </tr>\n",
       "    <tr>\n",
       "      <th>doc13</th>\n",
       "      <td>-2.0</td>\n",
       "      <td>7.0</td>\n",
       "    </tr>\n",
       "    <tr>\n",
       "      <th>doc14</th>\n",
       "      <td>-2.0</td>\n",
       "      <td>7.0</td>\n",
       "    </tr>\n",
       "    <tr>\n",
       "      <th>doc10</th>\n",
       "      <td>-3.0</td>\n",
       "      <td>1.0</td>\n",
       "    </tr>\n",
       "    <tr>\n",
       "      <th>doc4</th>\n",
       "      <td>-3.0</td>\n",
       "      <td>8.0</td>\n",
       "    </tr>\n",
       "    <tr>\n",
       "      <th>doc2</th>\n",
       "      <td>-4.0</td>\n",
       "      <td>10.0</td>\n",
       "    </tr>\n",
       "    <tr>\n",
       "      <th>doc17</th>\n",
       "      <td>-4.0</td>\n",
       "      <td>10.0</td>\n",
       "    </tr>\n",
       "    <tr>\n",
       "      <th>doc19</th>\n",
       "      <td>-4.0</td>\n",
       "      <td>2.0</td>\n",
       "    </tr>\n",
       "  </tbody>\n",
       "</table>\n",
       "</div>"
      ],
      "text/plain": [
       "       Pred1  Pred2\n",
       "doc16    6.0   -4.0\n",
       "doc1     4.0   -4.0\n",
       "doc12    4.0   -4.0\n",
       "doc9     3.0   -2.0\n",
       "doc6     3.0    1.0\n",
       "doc3     2.0    0.0\n",
       "doc18    1.0    3.0\n",
       "doc15    0.0    4.0\n",
       "doc11    0.0    1.0\n",
       "doc7    -1.0    2.0\n",
       "doc5    -1.0    1.0\n",
       "doc20   -1.0    5.0\n",
       "doc8    -2.0    4.0\n",
       "doc13   -2.0    7.0\n",
       "doc14   -2.0    7.0\n",
       "doc10   -3.0    1.0\n",
       "doc4    -3.0    8.0\n",
       "doc2    -4.0   10.0\n",
       "doc17   -4.0   10.0\n",
       "doc19   -4.0    2.0"
      ]
     },
     "execution_count": 8,
     "metadata": {},
     "output_type": "execute_result"
    }
   ],
   "source": [
    "rating[['Pred1','Pred2']].sort_values('Pred1',ascending=False)"
   ]
  },
  {
   "cell_type": "code",
   "execution_count": 9,
   "metadata": {},
   "outputs": [
    {
     "data": {
      "text/plain": [
       "baseball     4\n",
       "economics    4\n",
       "politics     4\n",
       "Europe       4\n",
       "Asia         4\n",
       "soccer       4\n",
       "war          4\n",
       "security     4\n",
       "shopping     4\n",
       "family       4\n",
       "num-attr     4\n",
       "User 1       2\n",
       "User 2       2\n",
       "Pred1        4\n",
       "Pred2        4\n",
       "dtype: int64"
      ]
     },
     "execution_count": 9,
     "metadata": {},
     "output_type": "execute_result"
    }
   ],
   "source": [
    "rating[rating.Pred2<0].count()"
   ]
  },
  {
   "cell_type": "markdown",
   "metadata": {},
   "source": [
    "# Part 2. Next, let’s treat all articles as having unit weight ..."
   ]
  },
  {
   "cell_type": "code",
   "execution_count": 10,
   "metadata": {},
   "outputs": [],
   "source": [
    "norm_rating = rating.apply(lambda row:row[feature_name]/np.sqrt(row['num-attr']),axis=1)\n",
    "norm_user_profiles = user_profiles.copy()"
   ]
  },
  {
   "cell_type": "code",
   "execution_count": 11,
   "metadata": {},
   "outputs": [],
   "source": [
    "for feature in feature_name:\n",
    "    norm_user_profiles.loc['User1',feature] = (norm_rating[feature] * rating['User 1']).sum()\n",
    "    norm_user_profiles.loc['User2',feature] = (norm_rating[feature] * rating['User 2']).sum()\n",
    "norm_rating['Pred1'] = np.dot(norm_rating.loc[:,feature_name],norm_user_profiles.loc['User1'])\n",
    "norm_rating['Pred2'] = np.dot(norm_rating.loc[:,feature_name],norm_user_profiles.loc['User2'])"
   ]
  },
  {
   "cell_type": "code",
   "execution_count": 12,
   "metadata": {},
   "outputs": [
    {
     "data": {
      "text/html": [
       "<div>\n",
       "<table border=\"1\" class=\"dataframe\">\n",
       "  <thead>\n",
       "    <tr style=\"text-align: right;\">\n",
       "      <th></th>\n",
       "      <th>Pred1</th>\n",
       "      <th>Pred2</th>\n",
       "    </tr>\n",
       "  </thead>\n",
       "  <tbody>\n",
       "    <tr>\n",
       "      <th>doc16</th>\n",
       "      <td>1.924646</td>\n",
       "      <td>-1.183064</td>\n",
       "    </tr>\n",
       "    <tr>\n",
       "      <th>doc6</th>\n",
       "      <td>1.370923</td>\n",
       "      <td>0.336184</td>\n",
       "    </tr>\n",
       "    <tr>\n",
       "      <th>doc12</th>\n",
       "      <td>1.333114</td>\n",
       "      <td>-1.227723</td>\n",
       "    </tr>\n",
       "    <tr>\n",
       "      <th>doc9</th>\n",
       "      <td>1.132724</td>\n",
       "      <td>-0.724476</td>\n",
       "    </tr>\n",
       "    <tr>\n",
       "      <th>doc1</th>\n",
       "      <td>1.009019</td>\n",
       "      <td>-0.845577</td>\n",
       "    </tr>\n",
       "    <tr>\n",
       "      <th>doc3</th>\n",
       "      <td>0.711105</td>\n",
       "      <td>0.016294</td>\n",
       "    </tr>\n",
       "    <tr>\n",
       "      <th>doc18</th>\n",
       "      <td>0.554695</td>\n",
       "      <td>1.060660</td>\n",
       "    </tr>\n",
       "    <tr>\n",
       "      <th>doc15</th>\n",
       "      <td>0.142229</td>\n",
       "      <td>0.949043</td>\n",
       "    </tr>\n",
       "    <tr>\n",
       "      <th>doc11</th>\n",
       "      <td>0.044658</td>\n",
       "      <td>0.349628</td>\n",
       "    </tr>\n",
       "    <tr>\n",
       "      <th>doc20</th>\n",
       "      <td>-0.081378</td>\n",
       "      <td>1.237718</td>\n",
       "    </tr>\n",
       "    <tr>\n",
       "      <th>doc5</th>\n",
       "      <td>-0.213541</td>\n",
       "      <td>0.319151</td>\n",
       "    </tr>\n",
       "    <tr>\n",
       "      <th>doc14</th>\n",
       "      <td>-0.331378</td>\n",
       "      <td>1.776393</td>\n",
       "    </tr>\n",
       "    <tr>\n",
       "      <th>doc7</th>\n",
       "      <td>-0.353553</td>\n",
       "      <td>0.744432</td>\n",
       "    </tr>\n",
       "    <tr>\n",
       "      <th>doc8</th>\n",
       "      <td>-0.370053</td>\n",
       "      <td>1.014111</td>\n",
       "    </tr>\n",
       "    <tr>\n",
       "      <th>doc13</th>\n",
       "      <td>-0.396447</td>\n",
       "      <td>1.802786</td>\n",
       "    </tr>\n",
       "    <tr>\n",
       "      <th>doc4</th>\n",
       "      <td>-0.620053</td>\n",
       "      <td>1.987718</td>\n",
       "    </tr>\n",
       "    <tr>\n",
       "      <th>doc10</th>\n",
       "      <td>-0.805073</td>\n",
       "      <td>0.274493</td>\n",
       "    </tr>\n",
       "    <tr>\n",
       "      <th>doc19</th>\n",
       "      <td>-0.847214</td>\n",
       "      <td>0.483442</td>\n",
       "    </tr>\n",
       "    <tr>\n",
       "      <th>doc2</th>\n",
       "      <td>-0.870053</td>\n",
       "      <td>2.526393</td>\n",
       "    </tr>\n",
       "    <tr>\n",
       "      <th>doc17</th>\n",
       "      <td>-0.870053</td>\n",
       "      <td>2.526393</td>\n",
       "    </tr>\n",
       "  </tbody>\n",
       "</table>\n",
       "</div>"
      ],
      "text/plain": [
       "          Pred1     Pred2\n",
       "doc16  1.924646 -1.183064\n",
       "doc6   1.370923  0.336184\n",
       "doc12  1.333114 -1.227723\n",
       "doc9   1.132724 -0.724476\n",
       "doc1   1.009019 -0.845577\n",
       "doc3   0.711105  0.016294\n",
       "doc18  0.554695  1.060660\n",
       "doc15  0.142229  0.949043\n",
       "doc11  0.044658  0.349628\n",
       "doc20 -0.081378  1.237718\n",
       "doc5  -0.213541  0.319151\n",
       "doc14 -0.331378  1.776393\n",
       "doc7  -0.353553  0.744432\n",
       "doc8  -0.370053  1.014111\n",
       "doc13 -0.396447  1.802786\n",
       "doc4  -0.620053  1.987718\n",
       "doc10 -0.805073  0.274493\n",
       "doc19 -0.847214  0.483442\n",
       "doc2  -0.870053  2.526393\n",
       "doc17 -0.870053  2.526393"
      ]
     },
     "execution_count": 12,
     "metadata": {},
     "output_type": "execute_result"
    }
   ],
   "source": [
    "norm_rating[['Pred1','Pred2']].sort_values('Pred1',ascending=False)"
   ]
  },
  {
   "cell_type": "markdown",
   "metadata": {},
   "source": [
    "# Part 3. Finally, let’s consider how common different terms are among our documents …"
   ]
  },
  {
   "cell_type": "code",
   "execution_count": 13,
   "metadata": {},
   "outputs": [],
   "source": [
    "df = data.iloc[-6:-5,:10]"
   ]
  },
  {
   "cell_type": "code",
   "execution_count": 14,
   "metadata": {
    "collapsed": true
   },
   "outputs": [],
   "source": [
    "idf = 1/df"
   ]
  },
  {
   "cell_type": "code",
   "execution_count": 15,
   "metadata": {},
   "outputs": [],
   "source": [
    "tfidf_rating = norm_rating[feature_name].copy()\n",
    "tfidf_user_profiles = user_profiles.copy()"
   ]
  },
  {
   "cell_type": "code",
   "execution_count": 16,
   "metadata": {
    "collapsed": true
   },
   "outputs": [],
   "source": [
    "for feature in feature_name:\n",
    "    tfidf_user_profiles.loc['User1',feature] = (tfidf_rating[feature] * rating['User 1']).sum()\n",
    "    tfidf_user_profiles.loc['User2',feature] = (tfidf_rating[feature] * rating['User 2']).sum()"
   ]
  },
  {
   "cell_type": "code",
   "execution_count": 17,
   "metadata": {},
   "outputs": [],
   "source": [
    "tfidf_rating['Pred1'] = np.dot(tfidf_rating.loc[:,feature_name],(tfidf_user_profiles.loc['User1']*idf).T)\n",
    "tfidf_rating['Pred2'] = np.dot(tfidf_rating.loc[:,feature_name],(tfidf_user_profiles.loc['User2']*idf).T)"
   ]
  },
  {
   "cell_type": "code",
   "execution_count": 18,
   "metadata": {},
   "outputs": [
    {
     "data": {
      "text/plain": [
       "baseball     0.000000\n",
       "economics    0.000000\n",
       "politics     0.000000\n",
       "Europe       0.000000\n",
       "Asia         0.000000\n",
       "soccer       0.707107\n",
       "war          0.000000\n",
       "security     0.000000\n",
       "shopping     0.707107\n",
       "family       0.000000\n",
       "Pred1        0.179067\n",
       "Pred2       -0.120746\n",
       "Name: doc9, dtype: float64"
      ]
     },
     "execution_count": 18,
     "metadata": {},
     "output_type": "execute_result"
    }
   ],
   "source": [
    "tfidf_rating.loc['doc9']"
   ]
  },
  {
   "cell_type": "code",
   "execution_count": 19,
   "metadata": {},
   "outputs": [
    {
     "data": {
      "text/html": [
       "<div>\n",
       "<table border=\"1\" class=\"dataframe\">\n",
       "  <thead>\n",
       "    <tr style=\"text-align: right;\">\n",
       "      <th></th>\n",
       "      <th>baseball</th>\n",
       "      <th>economics</th>\n",
       "      <th>politics</th>\n",
       "      <th>Europe</th>\n",
       "      <th>Asia</th>\n",
       "      <th>soccer</th>\n",
       "      <th>war</th>\n",
       "      <th>security</th>\n",
       "      <th>shopping</th>\n",
       "      <th>family</th>\n",
       "    </tr>\n",
       "  </thead>\n",
       "  <tbody>\n",
       "    <tr>\n",
       "      <th>DF</th>\n",
       "      <td>0.25</td>\n",
       "      <td>0.166667</td>\n",
       "      <td>0.1</td>\n",
       "      <td>0.090909</td>\n",
       "      <td>0.166667</td>\n",
       "      <td>0.166667</td>\n",
       "      <td>0.142857</td>\n",
       "      <td>0.166667</td>\n",
       "      <td>0.142857</td>\n",
       "      <td>0.2</td>\n",
       "    </tr>\n",
       "  </tbody>\n",
       "</table>\n",
       "</div>"
      ],
      "text/plain": [
       "    baseball  economics  politics    Europe      Asia    soccer       war  \\\n",
       "DF      0.25   0.166667       0.1  0.090909  0.166667  0.166667  0.142857   \n",
       "\n",
       "    security  shopping  family  \n",
       "DF  0.166667  0.142857     0.2  "
      ]
     },
     "execution_count": 19,
     "metadata": {},
     "output_type": "execute_result"
    }
   ],
   "source": [
    "idf"
   ]
  }
 ],
 "metadata": {
  "kernelspec": {
   "display_name": "Python 3",
   "language": "python",
   "name": "python3"
  },
  "language_info": {
   "codemirror_mode": {
    "name": "ipython",
    "version": 3
   },
   "file_extension": ".py",
   "mimetype": "text/x-python",
   "name": "python",
   "nbconvert_exporter": "python",
   "pygments_lexer": "ipython3",
   "version": "3.5.2"
  }
 },
 "nbformat": 4,
 "nbformat_minor": 2
}
