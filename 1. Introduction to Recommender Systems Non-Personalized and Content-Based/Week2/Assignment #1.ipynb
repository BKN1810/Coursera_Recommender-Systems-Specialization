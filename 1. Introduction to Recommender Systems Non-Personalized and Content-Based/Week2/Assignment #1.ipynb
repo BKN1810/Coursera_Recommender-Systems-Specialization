{
 "cells": [
  {
   "cell_type": "code",
   "execution_count": 1,
   "metadata": {
    "collapsed": true
   },
   "outputs": [],
   "source": [
    "import pandas as pd"
   ]
  },
  {
   "cell_type": "code",
   "execution_count": 2,
   "metadata": {
    "collapsed": true
   },
   "outputs": [],
   "source": [
    "data = pd.read_csv('HW1-data.csv')"
   ]
  },
  {
   "cell_type": "code",
   "execution_count": 3,
   "metadata": {},
   "outputs": [],
   "source": [
    "film_name =  ['260: Star Wars: Episode IV - A New Hope (1977)',\n",
    "       '1210: Star Wars: Episode VI - Return of the Jedi (1983)',\n",
    "       '356: Forrest Gump (1994)', '318: Shawshank Redemption, The (1994)',\n",
    "       '593: Silence of the Lambs, The (1991)', '3578: Gladiator (2000)',\n",
    "       '1: Toy Story (1995)', '2028: Saving Private Ryan (1998)',\n",
    "       '296: Pulp Fiction (1994)', '1259: Stand by Me (1986)',\n",
    "       '2396: Shakespeare in Love (1998)', '2916: Total Recall (1990)',\n",
    "       '780: Independence Day (ID4) (1996)', '541: Blade Runner (1982)',\n",
    "       '1265: Groundhog Day (1993)', '2571: Matrix, The (1999)',\n",
    "       \"527: Schindler's List (1993)\", '2762: Sixth Sense, The (1999)',\n",
    "       '1198: Raiders of the Lost Ark (1981)', '34: Babe (1995)']"
   ]
  },
  {
   "cell_type": "markdown",
   "metadata": {},
   "source": [
    "# Assignment #1: Response #1: Top Movies by Mean Rating"
   ]
  },
  {
   "cell_type": "code",
   "execution_count": 4,
   "metadata": {},
   "outputs": [
    {
     "data": {
      "text/plain": [
       "318: Shawshank Redemption, The (1994)             3.600000\n",
       "260: Star Wars: Episode IV - A New Hope (1977)    3.266667\n",
       "541: Blade Runner (1982)                          3.222222\n",
       "dtype: float64"
      ]
     },
     "execution_count": 4,
     "metadata": {},
     "output_type": "execute_result"
    }
   ],
   "source": [
    "data[film_name].mean().sort_values(ascending=False)[:3]"
   ]
  },
  {
   "cell_type": "markdown",
   "metadata": {},
   "source": [
    "# Assignment #1: Response #2: Top Movies by Count"
   ]
  },
  {
   "cell_type": "code",
   "execution_count": 5,
   "metadata": {},
   "outputs": [
    {
     "data": {
      "text/plain": [
       "1: Toy Story (1995)                               17\n",
       "593: Silence of the Lambs, The (1991)             16\n",
       "260: Star Wars: Episode IV - A New Hope (1977)    15\n",
       "dtype: int64"
      ]
     },
     "execution_count": 5,
     "metadata": {},
     "output_type": "execute_result"
    }
   ],
   "source": [
    "\n",
    "data[film_name].count().sort_values(ascending=False)[:3]"
   ]
  },
  {
   "cell_type": "markdown",
   "metadata": {},
   "source": [
    "# Assignment #1: Response #3: Top Movies by Percent Liking"
   ]
  },
  {
   "cell_type": "code",
   "execution_count": 6,
   "metadata": {},
   "outputs": [
    {
     "data": {
      "text/plain": [
       "318: Shawshank Redemption, The (1994)             0.700000\n",
       "260: Star Wars: Episode IV - A New Hope (1977)    0.533333\n",
       "3578: Gladiator (2000)                            0.500000\n",
       "dtype: float64"
      ]
     },
     "execution_count": 6,
     "metadata": {},
     "output_type": "execute_result"
    }
   ],
   "source": [
    "(data[film_name][data[film_name]>=4].count()/data[film_name].count()).sort_values(ascending=False)[:3]"
   ]
  },
  {
   "cell_type": "markdown",
   "metadata": {},
   "source": [
    "# Assignment #1: Response #4: Association with Toy Story"
   ]
  },
  {
   "cell_type": "code",
   "execution_count": 7,
   "metadata": {
    "scrolled": false
   },
   "outputs": [
    {
     "data": {
      "text/plain": [
       "260: Star Wars: Episode IV - A New Hope (1977)             0.823529\n",
       "1210: Star Wars: Episode VI - Return of the Jedi (1983)    0.764706\n",
       "593: Silence of the Lambs, The (1991)                      0.764706\n",
       "780: Independence Day (ID4) (1996)                         0.764706\n",
       "dtype: float64"
      ]
     },
     "execution_count": 7,
     "metadata": {},
     "output_type": "execute_result"
    }
   ],
   "source": [
    "sub_count = data.loc[pd.notnull(data['1: Toy Story (1995)']),'1: Toy Story (1995)'].count()\n",
    "(data.loc[pd.notnull(data['1: Toy Story (1995)']),film_name].count()/sub_count).sort_values(ascending=False)[1:5]"
   ]
  },
  {
   "cell_type": "markdown",
   "metadata": {},
   "source": [
    "# Assignment #1: Response #5: Correlation with Toy Story"
   ]
  },
  {
   "cell_type": "code",
   "execution_count": 8,
   "metadata": {},
   "outputs": [
    {
     "data": {
      "text/plain": [
       "318: Shawshank Redemption, The (1994)    0.888523\n",
       "34: Babe (1995)                          0.811107\n",
       "296: Pulp Fiction (1994)                 0.709842\n",
       "dtype: float64"
      ]
     },
     "execution_count": 8,
     "metadata": {},
     "output_type": "execute_result"
    }
   ],
   "source": [
    "data[film_name].apply(lambda x:x.corr(data['1: Toy Story (1995)']),axis=0).sort_values(ascending=False)[1:4]"
   ]
  },
  {
   "cell_type": "markdown",
   "metadata": {},
   "source": [
    "# Assignment #1: Response #6: Male-Female Differences in Average Rating"
   ]
  },
  {
   "cell_type": "code",
   "execution_count": 9,
   "metadata": {},
   "outputs": [
    {
     "data": {
      "text/plain": [
       "1198: Raiders of the Lost Ark (1981)                       1.666667\n",
       "527: Schindler's List (1993)                               1.000000\n",
       "2571: Matrix, The (1999)                                   0.742857\n",
       "1265: Groundhog Day (1993)                                 0.666667\n",
       "593: Silence of the Lambs, The (1991)                      0.619048\n",
       "1259: Stand by Me (1986)                                   0.571429\n",
       "2916: Total Recall (1990)                                  0.485714\n",
       "2028: Saving Private Ryan (1998)                           0.392857\n",
       "780: Independence Day (ID4) (1996)                         0.190476\n",
       "1210: Star Wars: Episode VI - Return of the Jedi (1983)    0.000000\n",
       "3578: Gladiator (2000)                                    -0.166667\n",
       "260: Star Wars: Episode IV - A New Hope (1977)            -0.303571\n",
       "2762: Sixth Sense, The (1999)                             -0.333333\n",
       "318: Shawshank Redemption, The (1994)                     -0.400000\n",
       "541: Blade Runner (1982)                                  -0.500000\n",
       "356: Forrest Gump (1994)                                  -0.750000\n",
       "1: Toy Story (1995)                                       -1.271429\n",
       "296: Pulp Fiction (1994)                                  -1.375000\n",
       "34: Babe (1995)                                           -1.428571\n",
       "2396: Shakespeare in Love (1998)                          -2.107143\n",
       "dtype: float64"
      ]
     },
     "execution_count": 9,
     "metadata": {},
     "output_type": "execute_result"
    }
   ],
   "source": [
    "data.groupby('Gender (1 =F, 0=M)')[film_name].mean().apply(lambda x:x[0]-x[1]).sort_values(ascending=False)# Male - Female"
   ]
  },
  {
   "cell_type": "code",
   "execution_count": 10,
   "metadata": {},
   "outputs": [
    {
     "data": {
      "text/plain": [
       "0.0418566100290092"
      ]
     },
     "execution_count": 10,
     "metadata": {},
     "output_type": "execute_result"
    }
   ],
   "source": [
    "data.loc[data['Gender (1 =F, 0=M)']==1,film_name].stack().mean()-data.loc[data['Gender (1 =F, 0=M)']==0,film_name].stack().mean()"
   ]
  },
  {
   "cell_type": "markdown",
   "metadata": {},
   "source": [
    "# Assignment #1: Response #7: Male-Female differences in Liking"
   ]
  },
  {
   "cell_type": "code",
   "execution_count": 11,
   "metadata": {},
   "outputs": [
    {
     "data": {
      "text/plain": [
       "1198: Raiders of the Lost Ark (1981)                       0.500000\n",
       "2571: Matrix, The (1999)                                   0.371429\n",
       "527: Schindler's List (1993)                               0.333333\n",
       "593: Silence of the Lambs, The (1991)                      0.269841\n",
       "2916: Total Recall (1990)                                  0.200000\n",
       "1265: Groundhog Day (1993)                                 0.166667\n",
       "2762: Sixth Sense, The (1999)                              0.000000\n",
       "3578: Gladiator (2000)                                     0.000000\n",
       "780: Independence Day (ID4) (1996)                        -0.047619\n",
       "260: Star Wars: Episode IV - A New Hope (1977)            -0.071429\n",
       "1259: Stand by Me (1986)                                  -0.178571\n",
       "318: Shawshank Redemption, The (1994)                     -0.200000\n",
       "2028: Saving Private Ryan (1998)                          -0.214286\n",
       "1210: Star Wars: Episode VI - Return of the Jedi (1983)   -0.250000\n",
       "1: Toy Story (1995)                                       -0.371429\n",
       "296: Pulp Fiction (1994)                                  -0.416667\n",
       "356: Forrest Gump (1994)                                  -0.500000\n",
       "541: Blade Runner (1982)                                  -0.550000\n",
       "34: Babe (1995)                                           -0.571429\n",
       "2396: Shakespeare in Love (1998)                          -0.750000\n",
       "dtype: float64"
      ]
     },
     "execution_count": 11,
     "metadata": {},
     "output_type": "execute_result"
    }
   ],
   "source": [
    "woman_rating = data[data['Gender (1 =F, 0=M)']==1][data[film_name]>=4][film_name].count()/data[data['Gender (1 =F, 0=M)']==1][film_name].count()\n",
    "man_rating = data[data['Gender (1 =F, 0=M)']==0][data[film_name]>=4][film_name].count()/data[data['Gender (1 =F, 0=M)']==0][film_name].count()\n",
    "(man_rating - woman_rating).sort_values(ascending=False)"
   ]
  },
  {
   "cell_type": "code",
   "execution_count": 12,
   "metadata": {},
   "outputs": [
    {
     "data": {
      "text/plain": [
       "0.082469954413593005"
      ]
     },
     "execution_count": 12,
     "metadata": {},
     "output_type": "execute_result"
    }
   ],
   "source": [
    "woman_rating = data.loc[data['Gender (1 =F, 0=M)']==1][data[film_name]>=4][film_name].stack().count()/data.loc[data['Gender (1 =F, 0=M)']==1][film_name].stack().count()\n",
    "man_rating = data.loc[data['Gender (1 =F, 0=M)']==0][data[film_name]>=4][film_name].stack().count()/data.loc[data['Gender (1 =F, 0=M)']==0][film_name].stack().count()\n",
    "woman_rating - man_rating"
   ]
  }
 ],
 "metadata": {
  "kernelspec": {
   "display_name": "Python 3",
   "language": "python",
   "name": "python3"
  },
  "language_info": {
   "codemirror_mode": {
    "name": "ipython",
    "version": 3
   },
   "file_extension": ".py",
   "mimetype": "text/x-python",
   "name": "python",
   "nbconvert_exporter": "python",
   "pygments_lexer": "ipython3",
   "version": "3.5.2"
  }
 },
 "nbformat": 4,
 "nbformat_minor": 2
}
