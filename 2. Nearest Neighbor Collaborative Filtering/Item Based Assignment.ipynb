{
 "cells": [
  {
   "cell_type": "code",
   "execution_count": 1,
   "metadata": {
    "collapsed": true
   },
   "outputs": [],
   "source": [
    "import pandas as pd\n",
    "import numpy as np\n",
    "from sklearn.metrics.pairwise import cosine_similarity"
   ]
  },
  {
   "cell_type": "markdown",
   "metadata": {},
   "source": [
    "# Cosine similarity between items using raw (unnormalized) ratings."
   ]
  },
  {
   "cell_type": "code",
   "execution_count": 2,
   "metadata": {
    "collapsed": true
   },
   "outputs": [],
   "source": [
    "data = pd.read_excel('./Assignment 5.xls',sheetname=0,)\n",
    "data = data.fillna(0)"
   ]
  },
  {
   "cell_type": "code",
   "execution_count": 3,
   "metadata": {
    "collapsed": true
   },
   "outputs": [],
   "source": [
    "matrix = pd.read_excel('./Assignment 5.xls',sheetname=2)\n",
    "matrix = pd.DataFrame(cosine_similarity(data.values[:-1,1:-1].T),index=matrix.index,columns=matrix.columns)"
   ]
  },
  {
   "cell_type": "code",
   "execution_count": 4,
   "metadata": {
    "collapsed": true
   },
   "outputs": [],
   "source": [
    "matrix = matrix.applymap(lambda x:max(0,x))"
   ]
  },
  {
   "cell_type": "code",
   "execution_count": 5,
   "metadata": {},
   "outputs": [
    {
     "data": {
      "text/plain": [
       "260: Star Wars: Episode IV - A New Hope (1977)    0.747409\n",
       "780: Independence Day (ID4) (1996)                0.690665\n",
       "296: Pulp Fiction (1994)                          0.667846\n",
       "318: Shawshank Redemption, The (1994)             0.667424\n",
       "1265: Groundhog Day (1993)                        0.661016\n",
       "Name: 1: Toy Story (1995), dtype: float64"
      ]
     },
     "execution_count": 5,
     "metadata": {},
     "output_type": "execute_result"
    }
   ],
   "source": [
    "matrix.loc['1: Toy Story (1995)'].nlargest(6).iloc[1:]"
   ]
  },
  {
   "cell_type": "code",
   "execution_count": 6,
   "metadata": {
    "collapsed": true
   },
   "outputs": [],
   "source": [
    "def get_score(row,user):\n",
    "    user_rating = data.loc[(data.User==user)]\n",
    "    user_hist_item = user_rating.columns[pd.notnull(user_rating).values[0]]\n",
    "    movie_name = row.name\n",
    "\n",
    "    neighbor_names = user_hist_item.tolist()#row.index.tolist()\n",
    "\n",
    "    if 'User' in neighbor_names:\n",
    "        neighbor_names.remove('User')\n",
    "    if 'Mean' in neighbor_names:\n",
    "        neighbor_names.remove('Mean')\n",
    "    a = row.loc[neighbor_names].values\n",
    "    b = data.loc[data.User==user,neighbor_names]\n",
    "\n",
    "    return np.dot(a,b.values[0])/np.sum(a) "
   ]
  },
  {
   "cell_type": "code",
   "execution_count": 7,
   "metadata": {
    "collapsed": true
   },
   "outputs": [],
   "source": [
    "data = pd.read_excel('./Assignment 5.xls',sheetname=0,)"
   ]
  },
  {
   "cell_type": "code",
   "execution_count": 8,
   "metadata": {
    "collapsed": true
   },
   "outputs": [],
   "source": [
    "user_rating = data.loc[data.User==5277]"
   ]
  },
  {
   "cell_type": "code",
   "execution_count": 9,
   "metadata": {},
   "outputs": [],
   "source": [
    "idx = user_rating.columns[pd.notnull(user_rating).values[0]].tolist()\n",
    "idx.remove('User')\n",
    "idx.remove('Mean')"
   ]
  },
  {
   "cell_type": "code",
   "execution_count": 10,
   "metadata": {},
   "outputs": [
    {
     "data": {
      "text/plain": [
       "527: Schindler's List (1993)                      2.973883\n",
       "1259: Stand by Me (1986)                          2.928801\n",
       "260: Star Wars: Episode IV - A New Hope (1977)    2.922240\n",
       "593: Silence of the Lambs, The (1991)             2.883304\n",
       "2396: Shakespeare in Love (1998)                  2.852131\n",
       "dtype: float64"
      ]
     },
     "execution_count": 10,
     "metadata": {},
     "output_type": "execute_result"
    }
   ],
   "source": [
    "ans = matrix.apply(get_score,axis=1,args=(5277,))\n",
    "ans[idx].nlargest(5)"
   ]
  },
  {
   "cell_type": "markdown",
   "metadata": {},
   "source": [
    "# Cosine similarity using adjusted (normalized) ratings."
   ]
  },
  {
   "cell_type": "code",
   "execution_count": 11,
   "metadata": {
    "collapsed": true
   },
   "outputs": [],
   "source": [
    "data = pd.read_excel('./Assignment 5.xls',sheetname=1,)\n",
    "matrix = pd.read_excel('./Assignment 5.xls',sheetname=2)\n",
    "matrix = pd.DataFrame(cosine_similarity(data.values[:-1,1:].T),index=matrix.index,columns=matrix.columns)"
   ]
  },
  {
   "cell_type": "code",
   "execution_count": 12,
   "metadata": {
    "collapsed": true
   },
   "outputs": [],
   "source": [
    "matrix = matrix.applymap(lambda x:max(0,x))"
   ]
  },
  {
   "cell_type": "code",
   "execution_count": 13,
   "metadata": {},
   "outputs": [
    {
     "data": {
      "text/plain": [
       "34: Babe (1995)                          0.554448\n",
       "356: Forrest Gump (1994)                 0.355780\n",
       "296: Pulp Fiction (1994)                 0.295013\n",
       "318: Shawshank Redemption, The (1994)    0.215975\n",
       "2028: Saving Private Ryan (1998)         0.192799\n",
       "Name: 1: Toy Story (1995), dtype: float64"
      ]
     },
     "execution_count": 13,
     "metadata": {},
     "output_type": "execute_result"
    }
   ],
   "source": [
    "matrix.loc['1: Toy Story (1995)'].nlargest(6)[1:]"
   ]
  },
  {
   "cell_type": "code",
   "execution_count": 14,
   "metadata": {
    "collapsed": true
   },
   "outputs": [],
   "source": [
    "def get_score(row,user):\n",
    "    user_rating = data_old.loc[(data_old.User==user)]\n",
    "    user_hist_item = user_rating.columns[pd.notnull(user_rating).values[0]]\n",
    "    movie_name = row.name\n",
    "    neighbor_names = user_hist_item.tolist()\n",
    "    if 'User' in neighbor_names:\n",
    "        neighbor_names.remove('User')\n",
    "    if 'Mean' in neighbor_names:\n",
    "        neighbor_names.remove('Mean')\n",
    "    a = row.loc[neighbor_names].values\n",
    "    b = data.loc[data.User==user,neighbor_names]\n",
    "    return np.dot(a,b.values[0])/np.sum(a)"
   ]
  },
  {
   "cell_type": "code",
   "execution_count": 15,
   "metadata": {},
   "outputs": [],
   "source": [
    "data_old = data = pd.read_excel('./Assignment 5.xls',sheetname=0,)"
   ]
  },
  {
   "cell_type": "code",
   "execution_count": 16,
   "metadata": {},
   "outputs": [
    {
     "data": {
      "text/plain": [
       "260: Star Wars: Episode IV - A New Hope (1977)    4.565822\n",
       "527: Schindler's List (1993)                      4.562483\n",
       "1259: Stand by Me (1986)                          3.602141\n",
       "2396: Shakespeare in Love (1998)                  3.297938\n",
       "593: Silence of the Lambs, The (1991)             3.220890\n",
       "dtype: float64"
      ]
     },
     "execution_count": 16,
     "metadata": {},
     "output_type": "execute_result"
    }
   ],
   "source": [
    "ans = matrix.apply(get_score,axis=1,args=(5277,))\n",
    "ans[idx].nlargest(5)"
   ]
  }
 ],
 "metadata": {
  "anaconda-cloud": {},
  "kernelspec": {
   "display_name": "Python [conda root]",
   "language": "python",
   "name": "conda-root-py"
  },
  "language_info": {
   "codemirror_mode": {
    "name": "ipython",
    "version": 3
   },
   "file_extension": ".py",
   "mimetype": "text/x-python",
   "name": "python",
   "nbconvert_exporter": "python",
   "pygments_lexer": "ipython3",
   "version": "3.5.2"
  }
 },
 "nbformat": 4,
 "nbformat_minor": 2
}
