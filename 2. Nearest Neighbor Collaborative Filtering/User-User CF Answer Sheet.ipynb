{
 "cells": [
  {
   "cell_type": "code",
   "execution_count": 1,
   "metadata": {
    "collapsed": true
   },
   "outputs": [],
   "source": [
    "import pandas as pd\n",
    "import numpy as np"
   ]
  },
  {
   "cell_type": "code",
   "execution_count": 2,
   "metadata": {
    "collapsed": true
   },
   "outputs": [],
   "source": [
    "data = pd.read_excel('./UUCF Assignment Spreadsheet.xls',sheetname=0)"
   ]
  },
  {
   "cell_type": "code",
   "execution_count": 3,
   "metadata": {
    "collapsed": true
   },
   "outputs": [],
   "source": [
    "uu_sim = data.corr()"
   ]
  },
  {
   "cell_type": "code",
   "execution_count": 4,
   "metadata": {
    "collapsed": true
   },
   "outputs": [],
   "source": [
    "def get_top_users(uu_sim,target,n=5):\n",
    "    target_cor = uu_sim.loc[target]\n",
    "    top_neighbors = target_cor.nlargest(n+1).iloc[1:]\n",
    "    return top_neighbors"
   ]
  },
  {
   "cell_type": "markdown",
   "metadata": {},
   "source": [
    "# Part 1 - Without Normalization"
   ]
  },
  {
   "cell_type": "code",
   "execution_count": 5,
   "metadata": {
    "collapsed": true
   },
   "outputs": [],
   "source": [
    "def get_user_movie_score(movie,user):\n",
    "    neighbors = get_top_users(uu_sim,user)\n",
    "    rating_sum = 0\n",
    "    weight_sum = 0\n",
    "    for user,w in zip(neighbors.index,neighbors.values):\n",
    "        if np.isnan(movie[user]):\n",
    "            continue\n",
    "        rating_sum += movie[user] * w\n",
    "        weight_sum += w\n",
    "    if weight_sum == 0:\n",
    "        return 0\n",
    "    else:\n",
    "        return rating_sum/weight_sum"
   ]
  },
  {
   "cell_type": "code",
   "execution_count": 6,
   "metadata": {
    "collapsed": true
   },
   "outputs": [],
   "source": [
    "pred_3867 = data.apply(get_user_movie_score,axis=1,args=(3867,))\n",
    "pred_89 = data.apply(get_user_movie_score,axis=1,args=(89,))"
   ]
  },
  {
   "cell_type": "code",
   "execution_count": 7,
   "metadata": {},
   "outputs": [
    {
     "data": {
      "text/plain": [
       "1891: Star Wars: Episode V - The Empire Strikes Back (1980)    4.760291\n",
       "155: The Dark Knight (2008)                                    4.551454\n",
       "122: The Lord of the Rings: The Return of the King (2003)      4.507637\n",
       "dtype: float64"
      ]
     },
     "execution_count": 7,
     "metadata": {},
     "output_type": "execute_result"
    }
   ],
   "source": [
    "pred_3867.sort_values(ascending=False)[:3]"
   ]
  },
  {
   "cell_type": "code",
   "execution_count": 8,
   "metadata": {},
   "outputs": [
    {
     "data": {
      "text/plain": [
       "238: The Godfather (1972)               4.894124\n",
       "278: The Shawshank Redemption (1994)    4.882194\n",
       "807: Seven (a.k.a. Se7en) (1995)        4.774093\n",
       "dtype: float64"
      ]
     },
     "execution_count": 8,
     "metadata": {},
     "output_type": "execute_result"
    }
   ],
   "source": [
    "pred_89.sort_values(ascending=False)[:3]"
   ]
  },
  {
   "cell_type": "markdown",
   "metadata": {},
   "source": [
    "# Part 2 - Normalization"
   ]
  },
  {
   "cell_type": "code",
   "execution_count": 9,
   "metadata": {},
   "outputs": [],
   "source": [
    "def get_norm_user_movie_score(movie,user):\n",
    "    neighbors = get_top_users(uu_sim,user)\n",
    "    rating_sum = 0\n",
    "    weight_sum = 0\n",
    "    user_rating_mean = data.loc[:,user].mean()\n",
    "    for user,w in zip(neighbors.index,neighbors.values):\n",
    "        if np.isnan(movie[user]):\n",
    "            continue\n",
    "        movie_user_mean = data.loc[:,user].mean()\n",
    "        rating_sum += (movie[user]-movie_user_mean) * w\n",
    "        weight_sum += w\n",
    "    if weight_sum == 0:\n",
    "        return 0\n",
    "    else:\n",
    "        return user_rating_mean + rating_sum/weight_sum    "
   ]
  },
  {
   "cell_type": "code",
   "execution_count": 10,
   "metadata": {
    "collapsed": true
   },
   "outputs": [],
   "source": [
    "norm_pred_3867 = data.apply(get_norm_user_movie_score,axis=1,args=(3867,))\n",
    "norm_pred_89 = data.apply(get_norm_user_movie_score,axis=1,args=(89,))"
   ]
  },
  {
   "cell_type": "code",
   "execution_count": 11,
   "metadata": {},
   "outputs": [
    {
     "data": {
      "text/plain": [
       "1891: Star Wars: Episode V - The Empire Strikes Back (1980)    5.245509\n",
       "155: The Dark Knight (2008)                                    4.856770\n",
       "77: Memento (2000)                                             4.777803\n",
       "dtype: float64"
      ]
     },
     "execution_count": 11,
     "metadata": {},
     "output_type": "execute_result"
    }
   ],
   "source": [
    "norm_pred_3867.sort_values(ascending=False)[:3]"
   ]
  },
  {
   "cell_type": "code",
   "execution_count": 12,
   "metadata": {},
   "outputs": [
    {
     "data": {
      "text/plain": [
       "238: The Godfather (1972)               5.322015\n",
       "278: The Shawshank Redemption (1994)    5.261424\n",
       "275: Fargo (1996)                       5.241111\n",
       "dtype: float64"
      ]
     },
     "execution_count": 12,
     "metadata": {},
     "output_type": "execute_result"
    }
   ],
   "source": [
    "norm_pred_89.sort_values(ascending=False)[:3]"
   ]
  }
 ],
 "metadata": {
  "anaconda-cloud": {},
  "kernelspec": {
   "display_name": "Python [conda root]",
   "language": "python",
   "name": "conda-root-py"
  },
  "language_info": {
   "codemirror_mode": {
    "name": "ipython",
    "version": 3
   },
   "file_extension": ".py",
   "mimetype": "text/x-python",
   "name": "python",
   "nbconvert_exporter": "python",
   "pygments_lexer": "ipython3",
   "version": "3.5.2"
  }
 },
 "nbformat": 4,
 "nbformat_minor": 2
}
